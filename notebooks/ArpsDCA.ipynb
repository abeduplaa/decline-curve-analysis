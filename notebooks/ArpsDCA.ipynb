{
 "cells": [
  {
   "cell_type": "code",
   "execution_count": 1,
   "metadata": {
    "ExecuteTime": {
     "end_time": "2020-01-12T21:54:27.921308Z",
     "start_time": "2020-01-12T21:54:27.082989Z"
    }
   },
   "outputs": [],
   "source": [
    "import pickle\n",
    "import time\n",
    "import datetime\n",
    "\n",
    "import matplotlib.pyplot as plt\n",
    "from scipy.optimize import curve_fit\n",
    "import pandas as pd\n",
    "import numpy as np\n",
    "\n",
    "import cudf\n",
    "import cupy\n"
   ]
  },
  {
   "cell_type": "markdown",
   "metadata": {},
   "source": [
    "# Load in Data\n",
    "\n",
    "a set of wells from the permian basin are included in parquet format (`wells_permian.parquet`) There are 383970 wells! \n",
    "\n",
    "If you have already loaded well data into OmniSci, you can easily read it by using pymapd (https://pymapd.readthedocs.io/en/latest/)\n",
    "\n",
    "Note: Loading in the data may take almost a minute\n"
   ]
  },
  {
   "cell_type": "code",
   "execution_count": 2,
   "metadata": {
    "ExecuteTime": {
     "end_time": "2020-01-12T20:55:31.704623Z",
     "start_time": "2020-01-12T20:55:31.699341Z"
    }
   },
   "outputs": [],
   "source": [
    "omnisci=False\n",
    "if omnisci:\n",
    "    from pymapd import connect\n",
    "\n",
    "    con = connect(user=\"abraham\", \n",
    "                         password=\"abraham\", \n",
    "                         host=\"localhost\", \n",
    "                         dbname=\"abraham\", \n",
    "                         port=6273,\n",
    "                         protocol='http')\n",
    "\n",
    "    print(con)\n",
    "\n",
    "    # if loading in from omnisci:\n",
    "    l_cols = ['wellapi',\n",
    "     'state',\n",
    "     'formationname',\n",
    "     'subbasin',\n",
    "     'operator',\n",
    "     'firstproducingmonth',\n",
    "     'ProductionPeriodStartDate',\n",
    "     'ProducingDaysInPeriod',\n",
    "     'SequentialMonthWell',\n",
    "     'OilProduced',\n",
    "     'GasProduced',\n",
    "     'WaterProduced',\n",
    "     'CondensateProduced',\n",
    "     'BOE']\n",
    "    s_cols = (', ').join(l_cols)\n",
    "\n",
    "    query = \"SELECT \" + s_cols + \" FROM well WHERE majorbasin='Permian' LIMIT 800000000\"\n",
    "    print(query)\n",
    "\n",
    "    df_permian = pd.read_sql(query,con)\n",
    "    df_permian.head()"
   ]
  },
  {
   "cell_type": "code",
   "execution_count": null,
   "metadata": {
    "ExecuteTime": {
     "end_time": "2019-12-20T16:17:41.284987Z",
     "start_time": "2019-12-20T16:17:11.948918Z"
    }
   },
   "outputs": [],
   "source": [
    "parquet_file = 'wells_permian.parquet'\n",
    "t0 = time.time()\n",
    "df_permian = pd.read_parquet(parquet_file, engine='pyarrow')\n",
    "print(\"Time to read from parquet: \", time.time()-t0)"
   ]
  },
  {
   "cell_type": "code",
   "execution_count": 3,
   "metadata": {
    "ExecuteTime": {
     "end_time": "2020-01-12T20:55:53.653217Z",
     "start_time": "2020-01-12T20:55:53.522801Z"
    }
   },
   "outputs": [
    {
     "ename": "NameError",
     "evalue": "name 'df_permian' is not defined",
     "output_type": "error",
     "traceback": [
      "\u001b[0;31m---------------------------------------------------------------------------\u001b[0m",
      "\u001b[0;31mNameError\u001b[0m                                 Traceback (most recent call last)",
      "\u001b[0;32m<ipython-input-3-a86f95efdce0>\u001b[0m in \u001b[0;36m<module>\u001b[0;34m\u001b[0m\n\u001b[0;32m----> 1\u001b[0;31m \u001b[0mdf_permian\u001b[0m\u001b[0;34m.\u001b[0m\u001b[0mhead\u001b[0m\u001b[0;34m(\u001b[0m\u001b[0;34m)\u001b[0m\u001b[0;34m\u001b[0m\u001b[0;34m\u001b[0m\u001b[0m\n\u001b[0m",
      "\u001b[0;31mNameError\u001b[0m: name 'df_permian' is not defined"
     ]
    }
   ],
   "source": [
    "df_permian.head()"
   ]
  },
  {
   "cell_type": "code",
   "execution_count": null,
   "metadata": {
    "ExecuteTime": {
     "end_time": "2019-12-20T16:17:43.548183Z",
     "start_time": "2019-12-20T16:17:41.309825Z"
    }
   },
   "outputs": [],
   "source": [
    "start_date = datetime.datetime(2011,1,1)\n",
    "\n",
    "end_date = datetime.datetime(2015,1,1)\n",
    "\n",
    "no_wells = len(df_permian['wellapi']\n",
    "            .loc[(df_permian['firstproducingmonth'] > start_date) & (df_permian['firstproducingmonth'] <= end_date)]\n",
    "            .unique()\n",
    "           )\n",
    "print(\"Number of wells starting production from %s: %d\" %(start_date.year, no_wells))"
   ]
  },
  {
   "cell_type": "code",
   "execution_count": null,
   "metadata": {
    "ExecuteTime": {
     "end_time": "2019-12-20T16:17:47.085011Z",
     "start_time": "2019-12-20T16:17:43.560756Z"
    }
   },
   "outputs": [],
   "source": [
    "production_col = 'BOE'\n",
    "\n",
    "df_permian_recent = (df_permian.loc[df_permian['firstproducingmonth'] > start_date]\n",
    "                     .sort_values(production_col, ascending=False)\n",
    "                     .drop_duplicates(['wellapi','SequentialMonthWell'])\n",
    "                     .dropna(subset=[production_col, 'SequentialMonthWell'])\n",
    "                     .sort_values(['wellapi',production_col],ascending=True)\n",
    "                 )\n",
    "\n",
    "well_information = (df_permian_recent[['wellapi','SequentialMonthWell']]\n",
    " .groupby(['wellapi'])['SequentialMonthWell']\n",
    " .count()\n",
    " .reset_index(name='count')\n",
    " .sort_values(['count'], ascending=False)\n",
    ")\n",
    "\n",
    "well_information.head()"
   ]
  },
  {
   "cell_type": "markdown",
   "metadata": {},
   "source": [
    "## Quickly viewing n number of random wells"
   ]
  },
  {
   "cell_type": "code",
   "execution_count": null,
   "metadata": {
    "ExecuteTime": {
     "end_time": "2019-12-20T13:11:38.544571Z",
     "start_time": "2019-12-20T13:11:34.716750Z"
    }
   },
   "outputs": [],
   "source": [
    "# plot n number of wells together to get an idea of what the production looks like\n",
    "n = 50\n",
    "\n",
    "fig, ax = plt.subplots()\n",
    "#well_apis = df_permian_recent['wellapi'].sample(n)\n",
    "well_apis = well_information['wellapi'].head(n)\n",
    "for well_api in well_apis:\n",
    "    \n",
    "    well = df_permian_recent.loc[df_permian_recent['wellapi']==well_api].sort_values('SequentialMonthWell',ascending=True)\n",
    "    ax.plot(well['SequentialMonthWell'],well[production_col])\n",
    "\n",
    "ax.set(xlabel='Months in production', ylabel='Production '+production_col,\n",
    "       title='Production')\n",
    "ax.grid()\n",
    "\n",
    "plt.show()"
   ]
  },
  {
   "cell_type": "markdown",
   "metadata": {},
   "source": [
    "# Looking at one well at random"
   ]
  },
  {
   "cell_type": "code",
   "execution_count": null,
   "metadata": {
    "ExecuteTime": {
     "end_time": "2019-12-20T13:11:38.688834Z",
     "start_time": "2019-12-20T13:11:38.546392Z"
    }
   },
   "outputs": [],
   "source": [
    "api = np.random.choice(df_permian_recent['wellapi'].unique())\n",
    "one_well = df_permian_recent[df_permian_recent['wellapi']==api].sort_values('SequentialMonthWell',ascending=True)\n"
   ]
  },
  {
   "cell_type": "code",
   "execution_count": null,
   "metadata": {
    "ExecuteTime": {
     "end_time": "2019-12-20T13:11:38.848655Z",
     "start_time": "2019-12-20T13:11:38.690361Z"
    }
   },
   "outputs": [],
   "source": [
    "# Data for plotting\n",
    "fig, ax = plt.subplots()\n",
    "ax.plot(one_well.SequentialMonthWell, one_well[production_col])\n",
    "\n",
    "ax.set(xlabel='Months in production', ylabel='Production',\n",
    "       title='Production')\n",
    "ax.grid()\n",
    "\n",
    "plt.show()"
   ]
  },
  {
   "cell_type": "markdown",
   "metadata": {},
   "source": [
    "# Decline curve analysis"
   ]
  },
  {
   "cell_type": "code",
   "execution_count": null,
   "metadata": {
    "ExecuteTime": {
     "end_time": "2019-12-20T13:11:39.044251Z",
     "start_time": "2019-12-20T13:11:38.849942Z"
    }
   },
   "outputs": [],
   "source": [
    "import arps\n",
    "\n",
    "qi = arps.max_qi(df=one_well, month_col='SequentialMonthWell', interval=4, prod=production_col)\n",
    "\n",
    "\n",
    "popt_exp, pcov_exp = curve_fit(arps.exponential, one_well['SequentialMonthWell'], one_well[production_col],bounds=(0, [qi,20]))\n",
    "\n",
    "popt_hyp, pcov_hyp = curve_fit(arps.hyperbolic, one_well['SequentialMonthWell'], \n",
    "                                    one_well[production_col],bounds=(0, [qi,2,20]))\n",
    "\n",
    "qi = popt_exp[1]\n",
    "b = popt_hyp[1]\n",
    "di_exp = popt_exp[1]\n",
    "di_hyp = popt_hyp[2]\n",
    "print('Exponential Fit Curve-fitted Variables: qi=%f, di=%f' %(popt_exp[0], popt_exp[1]) )\n",
    "print('Hyperbolic Fit Curve-fitted Variables: qi=%f, b=%f, di=%f' %(popt_hyp[0], popt_hyp[1], popt_hyp[2]))\n",
    "\n",
    "\n",
    "\n",
    "one_well.loc[:,'exponential_predicted'] = arps.exponential(one_well['SequentialMonthWell'],*popt_exp)\n",
    "one_well.loc[:,'hyperbolic_predicted'] = arps.hyperbolic(one_well['SequentialMonthWell'],*popt_hyp)\n"
   ]
  },
  {
   "cell_type": "code",
   "execution_count": null,
   "metadata": {
    "ExecuteTime": {
     "end_time": "2019-12-20T13:11:39.048700Z",
     "start_time": "2019-12-20T13:11:39.045613Z"
    }
   },
   "outputs": [],
   "source": [
    "def plot_actual_vs_predicted_by_equations(df, x_variable, y_variables, plot_title):\n",
    "    \"\"\"\n",
    "    This function is used to map x- and y-variables against each other\n",
    "    Arguments:\n",
    "        df: Pandas dataframe.\n",
    "        x_variable: String. Name of the column that we want to set as the \n",
    "        x-variable in the plot\n",
    "        y_variables: string (single), or list of strings (multiple). Name(s) \n",
    "        of the column(s) that we want to set as the y-variable in the plot\n",
    "    \"\"\"\n",
    "    #Plot results\n",
    "    df.plot(x=x_variable, y=y_variables, title=plot_title)\n",
    "    plt.show()"
   ]
  },
  {
   "cell_type": "code",
   "execution_count": null,
   "metadata": {
    "ExecuteTime": {
     "end_time": "2019-12-20T13:11:41.187565Z",
     "start_time": "2019-12-20T13:11:40.996466Z"
    }
   },
   "outputs": [],
   "source": [
    "y_variables=[production_col, \"hyperbolic_predicted\", \"exponential_predicted\"]\n",
    "x_variable='SequentialMonthWell'\n",
    "#Create the plot title\n",
    "plot_title=production_col+' Production for one well'\n",
    "#Plot the data to visualize the equation fit\n",
    "plot_actual_vs_predicted_by_equations(one_well, x_variable, y_variables, plot_title)\n"
   ]
  },
  {
   "cell_type": "markdown",
   "metadata": {},
   "source": [
    "# Calculating the values for all wells"
   ]
  },
  {
   "cell_type": "code",
   "execution_count": null,
   "metadata": {
    "ExecuteTime": {
     "end_time": "2019-12-20T13:11:55.590807Z",
     "start_time": "2019-12-20T13:11:55.588305Z"
    }
   },
   "outputs": [],
   "source": [
    "# # import arps\n",
    "# grouped = df_permian_recent.groupby('wellapi')\n",
    "\n",
    "# well_data = []\n",
    "\n",
    "# t0 = time.time()\n",
    "# for (name, well) in grouped:\n",
    "    \n",
    "    \n",
    "#     try:\n",
    "#         well = well.sort_values('SequentialMonthWell',ascending=True)\n",
    "#         qi = arps.max_qi(df=well, month_col='SequentialMonthWell', interval=6, prod=production_col)\n",
    "\n",
    "#         popt_exp, pcov_exp = curve_fit(arps.exponential, well['SequentialMonthWell'], well[production_col],bounds=(0, [qi,20]))\n",
    "#         popt_hyp, pcov_hyp = curve_fit(arps.hyperbolic, well['SequentialMonthWell'], \n",
    "#                                             well[production_col],bounds=(0, [qi,2,20]))\n",
    "\n",
    "#         print(\"Well API: \", name)\n",
    "#         print('Exponential: qi=%f, di=%f' %(popt_exp[0], popt_exp[1]) )\n",
    "#         print('Hyperbolic: qi=%f, b=%f, di=%f' %(popt_hyp[0], popt_hyp[1], popt_hyp[2]))\n",
    "#         print('\\n')\n",
    "\n",
    "#         qi = popt_exp[1]\n",
    "#         b = popt_hyp[1]\n",
    "#         di_exp = popt_exp[1]\n",
    "#         di_hyp = popt_hyp[2]\n",
    "\n",
    "#         well_data.append((name, qi, b, di_exp, di_hyp))\n",
    "#     except:\n",
    "#         print(\"Well %s not forecasted: %f\" %(name, qi))\n",
    "# print(\"Time: \", time.time()-t0)    "
   ]
  },
  {
   "cell_type": "code",
   "execution_count": null,
   "metadata": {
    "ExecuteTime": {
     "end_time": "2019-12-20T13:11:56.101667Z",
     "start_time": "2019-12-20T13:11:56.096287Z"
    }
   },
   "outputs": [],
   "source": [
    "def f(x):\n",
    "    try: \n",
    "        name = x[0]\n",
    "        well = x[1]\n",
    "\n",
    "        well = well.sort_values('SequentialMonthWell',ascending=True)\n",
    "        qi = arps.max_qi(df=well, month_col='SequentialMonthWell', interval=6, prod=production_col)\n",
    "\n",
    "        popt_exp, pcov_exp = curve_fit(arps.exponential, well['SequentialMonthWell'], well[production_col],bounds=(0, [qi,20]))\n",
    "        popt_hyp, pcov_hyp = curve_fit(arps.hyperbolic, well['SequentialMonthWell'], \n",
    "                                            well[production_col],bounds=(0, [qi,2,20]))\n",
    "\n",
    "#         print(\"Well API: \", name)\n",
    "#         print('Exponential: qi=%f, di=%f' %(popt_exp[0], popt_exp[1]) )\n",
    "#         print('Hyperbolic: qi=%f, b=%f, di=%f' %(popt_hyp[0], popt_hyp[1], popt_hyp[2]))\n",
    "#         print('\\n')\n",
    "\n",
    "#         qi = popt_exp[1]\n",
    "#         b = popt_hyp[1]\n",
    "#         di_exp = popt_exp[1]\n",
    "#         di_hyp = popt_hyp[2]\n",
    "        # name, qi, b, di_exp, di_hyp\n",
    "        return (name, popt_exp[1], popt_hyp[1], popt_exp[1], popt_hyp[2])\n",
    "    except:\n",
    "        print(\"Well %s not forecasted: %f\" %(name, qi))"
   ]
  },
  {
   "cell_type": "code",
   "execution_count": null,
   "metadata": {
    "ExecuteTime": {
     "end_time": "2019-12-20T13:14:27.118189Z",
     "start_time": "2019-12-20T13:11:56.771857Z"
    },
    "scrolled": true
   },
   "outputs": [],
   "source": [
    "from multiprocessing import Pool\n",
    "grouped = df_permian_recent.groupby('wellapi')\n",
    "p = Pool()\n",
    "values = p.map(f, [x for x in grouped])\n",
    "values = [v for v in values if v is not None]"
   ]
  },
  {
   "cell_type": "code",
   "execution_count": 7,
   "metadata": {
    "ExecuteTime": {
     "end_time": "2020-01-12T20:32:19.740102Z",
     "start_time": "2020-01-12T20:32:19.735983Z"
    }
   },
   "outputs": [],
   "source": [
    "values = [v for v in values if v is not None]"
   ]
  },
  {
   "cell_type": "code",
   "execution_count": 3,
   "metadata": {
    "ExecuteTime": {
     "end_time": "2020-01-12T20:31:57.113476Z",
     "start_time": "2020-01-12T20:31:56.993236Z"
    }
   },
   "outputs": [],
   "source": [
    "import pickle\n",
    "\n",
    "values = pickle.load(open('../data/values.p','rb'))"
   ]
  },
  {
   "cell_type": "code",
   "execution_count": 4,
   "metadata": {
    "ExecuteTime": {
     "end_time": "2020-01-12T21:54:53.821901Z",
     "start_time": "2020-01-12T21:54:53.807299Z"
    }
   },
   "outputs": [
    {
     "name": "stderr",
     "output_type": "stream",
     "text": [
      "ERROR:Could not connect to any of [('127.0.0.1', 6274)]\n"
     ]
    },
    {
     "ename": "OperationalError",
     "evalue": "Could not connect to database",
     "output_type": "error",
     "traceback": [
      "\u001b[0;31m---------------------------------------------------------------------------\u001b[0m",
      "\u001b[0;31mTTransportException\u001b[0m                       Traceback (most recent call last)",
      "\u001b[0;32m~/miniconda3/envs/decline_curve/lib/python3.7/site-packages/pymapd/connection.py\u001b[0m in \u001b[0;36m__init__\u001b[0;34m(self, uri, user, password, host, port, dbname, protocol, sessionid, bin_cert_validate, bin_ca_certs)\u001b[0m\n\u001b[1;32m    207\u001b[0m         \u001b[0;32mtry\u001b[0m\u001b[0;34m:\u001b[0m\u001b[0;34m\u001b[0m\u001b[0;34m\u001b[0m\u001b[0m\n\u001b[0;32m--> 208\u001b[0;31m             \u001b[0mself\u001b[0m\u001b[0;34m.\u001b[0m\u001b[0m_transport\u001b[0m\u001b[0;34m.\u001b[0m\u001b[0mopen\u001b[0m\u001b[0;34m(\u001b[0m\u001b[0;34m)\u001b[0m\u001b[0;34m\u001b[0m\u001b[0;34m\u001b[0m\u001b[0m\n\u001b[0m\u001b[1;32m    209\u001b[0m         \u001b[0;32mexcept\u001b[0m \u001b[0mTTransportException\u001b[0m \u001b[0;32mas\u001b[0m \u001b[0me\u001b[0m\u001b[0;34m:\u001b[0m\u001b[0;34m\u001b[0m\u001b[0;34m\u001b[0m\u001b[0m\n",
      "\u001b[0;32m~/miniconda3/envs/decline_curve/lib/python3.7/site-packages/thrift/transport/TTransport.py\u001b[0m in \u001b[0;36mopen\u001b[0;34m(self)\u001b[0m\n\u001b[1;32m    152\u001b[0m     \u001b[0;32mdef\u001b[0m \u001b[0mopen\u001b[0m\u001b[0;34m(\u001b[0m\u001b[0mself\u001b[0m\u001b[0;34m)\u001b[0m\u001b[0;34m:\u001b[0m\u001b[0;34m\u001b[0m\u001b[0;34m\u001b[0m\u001b[0m\n\u001b[0;32m--> 153\u001b[0;31m         \u001b[0;32mreturn\u001b[0m \u001b[0mself\u001b[0m\u001b[0;34m.\u001b[0m\u001b[0m__trans\u001b[0m\u001b[0;34m.\u001b[0m\u001b[0mopen\u001b[0m\u001b[0;34m(\u001b[0m\u001b[0;34m)\u001b[0m\u001b[0;34m\u001b[0m\u001b[0;34m\u001b[0m\u001b[0m\n\u001b[0m\u001b[1;32m    154\u001b[0m \u001b[0;34m\u001b[0m\u001b[0m\n",
      "\u001b[0;32m~/miniconda3/envs/decline_curve/lib/python3.7/site-packages/thrift/transport/TSocket.py\u001b[0m in \u001b[0;36mopen\u001b[0;34m(self)\u001b[0m\n\u001b[1;32m    112\u001b[0m         \u001b[0mlogger\u001b[0m\u001b[0;34m.\u001b[0m\u001b[0merror\u001b[0m\u001b[0;34m(\u001b[0m\u001b[0mmsg\u001b[0m\u001b[0;34m)\u001b[0m\u001b[0;34m\u001b[0m\u001b[0;34m\u001b[0m\u001b[0m\n\u001b[0;32m--> 113\u001b[0;31m         \u001b[0;32mraise\u001b[0m \u001b[0mTTransportException\u001b[0m\u001b[0;34m(\u001b[0m\u001b[0mTTransportException\u001b[0m\u001b[0;34m.\u001b[0m\u001b[0mNOT_OPEN\u001b[0m\u001b[0;34m,\u001b[0m \u001b[0mmsg\u001b[0m\u001b[0;34m)\u001b[0m\u001b[0;34m\u001b[0m\u001b[0;34m\u001b[0m\u001b[0m\n\u001b[0m\u001b[1;32m    114\u001b[0m \u001b[0;34m\u001b[0m\u001b[0m\n",
      "\u001b[0;31mTTransportException\u001b[0m: Could not connect to any of [('127.0.0.1', 6274)]",
      "\nThe above exception was the direct cause of the following exception:\n",
      "\u001b[0;31mOperationalError\u001b[0m                          Traceback (most recent call last)",
      "\u001b[0;32m<ipython-input-4-9c80fd5159a1>\u001b[0m in \u001b[0;36m<module>\u001b[0;34m\u001b[0m\n\u001b[1;32m      6\u001b[0m                      \u001b[0mdbname\u001b[0m\u001b[0;34m=\u001b[0m\u001b[0;34m\"abraham\"\u001b[0m\u001b[0;34m,\u001b[0m\u001b[0;34m\u001b[0m\u001b[0;34m\u001b[0m\u001b[0m\n\u001b[1;32m      7\u001b[0m                      \u001b[0mport\u001b[0m\u001b[0;34m=\u001b[0m\u001b[0;36m6274\u001b[0m\u001b[0;34m,\u001b[0m\u001b[0;34m\u001b[0m\u001b[0;34m\u001b[0m\u001b[0m\n\u001b[0;32m----> 8\u001b[0;31m                      protocol='binary')\n\u001b[0m",
      "\u001b[0;32m~/miniconda3/envs/decline_curve/lib/python3.7/site-packages/pymapd/connection.py\u001b[0m in \u001b[0;36mconnect\u001b[0;34m(uri, user, password, host, port, dbname, protocol, sessionid, bin_cert_validate, bin_ca_certs)\u001b[0m\n\u001b[1;32m     90\u001b[0m                       \u001b[0mport\u001b[0m\u001b[0;34m=\u001b[0m\u001b[0mport\u001b[0m\u001b[0;34m,\u001b[0m \u001b[0mdbname\u001b[0m\u001b[0;34m=\u001b[0m\u001b[0mdbname\u001b[0m\u001b[0;34m,\u001b[0m \u001b[0mprotocol\u001b[0m\u001b[0;34m=\u001b[0m\u001b[0mprotocol\u001b[0m\u001b[0;34m,\u001b[0m\u001b[0;34m\u001b[0m\u001b[0;34m\u001b[0m\u001b[0m\n\u001b[1;32m     91\u001b[0m                       \u001b[0msessionid\u001b[0m\u001b[0;34m=\u001b[0m\u001b[0msessionid\u001b[0m\u001b[0;34m,\u001b[0m \u001b[0mbin_cert_validate\u001b[0m\u001b[0;34m=\u001b[0m\u001b[0mbin_cert_validate\u001b[0m\u001b[0;34m,\u001b[0m\u001b[0;34m\u001b[0m\u001b[0;34m\u001b[0m\u001b[0m\n\u001b[0;32m---> 92\u001b[0;31m                       bin_ca_certs=bin_ca_certs)\n\u001b[0m\u001b[1;32m     93\u001b[0m \u001b[0;34m\u001b[0m\u001b[0m\n\u001b[1;32m     94\u001b[0m \u001b[0;34m\u001b[0m\u001b[0m\n",
      "\u001b[0;32m~/miniconda3/envs/decline_curve/lib/python3.7/site-packages/pymapd/connection.py\u001b[0m in \u001b[0;36m__init__\u001b[0;34m(self, uri, user, password, host, port, dbname, protocol, sessionid, bin_cert_validate, bin_ca_certs)\u001b[0m\n\u001b[1;32m    210\u001b[0m             \u001b[0;32mif\u001b[0m \u001b[0me\u001b[0m\u001b[0;34m.\u001b[0m\u001b[0mNOT_OPEN\u001b[0m\u001b[0;34m:\u001b[0m\u001b[0;34m\u001b[0m\u001b[0;34m\u001b[0m\u001b[0m\n\u001b[1;32m    211\u001b[0m                 \u001b[0merr\u001b[0m \u001b[0;34m=\u001b[0m \u001b[0mOperationalError\u001b[0m\u001b[0;34m(\u001b[0m\u001b[0;34m\"Could not connect to database\"\u001b[0m\u001b[0;34m)\u001b[0m\u001b[0;34m\u001b[0m\u001b[0;34m\u001b[0m\u001b[0m\n\u001b[0;32m--> 212\u001b[0;31m                 \u001b[0;32mraise\u001b[0m \u001b[0merr\u001b[0m \u001b[0;32mfrom\u001b[0m \u001b[0me\u001b[0m\u001b[0;34m\u001b[0m\u001b[0;34m\u001b[0m\u001b[0m\n\u001b[0m\u001b[1;32m    213\u001b[0m             \u001b[0;32melse\u001b[0m\u001b[0;34m:\u001b[0m\u001b[0;34m\u001b[0m\u001b[0;34m\u001b[0m\u001b[0m\n\u001b[1;32m    214\u001b[0m                 \u001b[0;32mraise\u001b[0m\u001b[0;34m\u001b[0m\u001b[0;34m\u001b[0m\u001b[0m\n",
      "\u001b[0;31mOperationalError\u001b[0m: Could not connect to database"
     ]
    }
   ],
   "source": [
    "from pymapd import connect\n",
    "\n",
    "con = connect(user=\"abraham\", \n",
    "                     password=\"abraham\", \n",
    "                     host=\"localhost\", \n",
    "                     dbname=\"abraham\", \n",
    "                     port=6274,\n",
    "                     protocol='binary')"
   ]
  },
  {
   "cell_type": "code",
   "execution_count": null,
   "metadata": {},
   "outputs": [],
   "source": [
    "def power(x, y): \n",
    "    # Initialize result \n",
    "    res = 1\n",
    "    while (y > 0): \n",
    "        # If y is odd, multiply \n",
    "        # x with result \n",
    "        if ((y & 1) == 1) : \n",
    "            res = res * x \n",
    "        # n must be even  \n",
    "        # now y = y/2 \n",
    "        y = y >> 1\n",
    "        # Change x to x^2 \n",
    "        x = x * x \n",
    "    return res "
   ]
  },
  {
   "cell_type": "code",
   "execution_count": 11,
   "metadata": {
    "ExecuteTime": {
     "end_time": "2019-12-23T22:04:13.264617Z",
     "start_time": "2019-12-23T22:04:13.259401Z"
    }
   },
   "outputs": [],
   "source": [
    "import numpy as np\n",
    "@con('float32(int32, float32, float32, float32)')\n",
    "def hyperbolic(t, qi, b, di):\n",
    "    def power(x, y): \n",
    "        if (y == 0): return 1\n",
    "        elif (int(y % 2) == 0): \n",
    "            return (power(x, int(y / 2)) *\n",
    "                   power(x, int(y / 2))) \n",
    "        else: \n",
    "            return (x * power(x, int(y / 2)) *\n",
    "                       power(x, int(y / 2))) \n",
    "        \n",
    "    return qi/(power( (1.0+b*di*t), (1.0/b) ) )\n",
    "\n"
   ]
  },
  {
   "cell_type": "code",
   "execution_count": 10,
   "metadata": {
    "ExecuteTime": {
     "end_time": "2019-12-23T22:25:55.524065Z",
     "start_time": "2019-12-23T22:25:55.519602Z"
    }
   },
   "outputs": [],
   "source": [
    "#include <stdio.h>\n",
    "#include <math.h>\n",
    "\n",
    "def power():\n",
    "    \n",
    "\n",
    "int main()\n",
    "{\n",
    "double base, expo, res;\n",
    "printf(\"Enter a base number: \");\n",
    "scanf(\"%lf\", &base);\n",
    "printf(\"Enter an exponent: \");\n",
    "scanf(\"%lf\", &expo);\n",
    "res = pow(base, expo);\n",
    "printf(\"%.1lf^%.1lf = %.2lf\", base, expo, res);\n",
    "return 0;\n",
    "}"
   ]
  },
  {
   "cell_type": "code",
   "execution_count": null,
   "metadata": {},
   "outputs": [],
   "source": [
    "while y > 0:\n",
    "    if (int(y % 2) == 0):\n",
    "        "
   ]
  },
  {
   "cell_type": "code",
   "execution_count": 7,
   "metadata": {
    "ExecuteTime": {
     "end_time": "2019-12-23T22:23:00.142635Z",
     "start_time": "2019-12-23T22:23:00.139292Z"
    }
   },
   "outputs": [],
   "source": [
    "import numpy as np\n",
    "@con('float32(int32, float32, float32)')\n",
    "def exponential(t, qi, di):\n",
    "    return qi*np.exp((-di*t))"
   ]
  },
  {
   "cell_type": "code",
   "execution_count": 12,
   "metadata": {
    "ExecuteTime": {
     "end_time": "2019-12-23T22:30:19.564078Z",
     "start_time": "2019-12-23T22:30:19.561632Z"
    }
   },
   "outputs": [],
   "source": [
    "import rbc"
   ]
  },
  {
   "cell_type": "code",
   "execution_count": 7,
   "metadata": {
    "ExecuteTime": {
     "end_time": "2019-12-23T22:24:19.089027Z",
     "start_time": "2019-12-23T22:24:19.085387Z"
    }
   },
   "outputs": [
    {
     "name": "stderr",
     "output_type": "stream",
     "text": [
      "/home/mapdadmin/miniconda3/envs/decline_curve/lib/python3.7/site-packages/rbc/remotejit.py:239: UserWarning: <ipython-input-7-cc9bcf7e659d>#2 re-implements <ipython-input-6-3537560d3e79>#2 for `float64(float64)`\n",
      "  .format(f1=f1, n1=n1, f2=f2, n2=n2, sig=sig))\n"
     ]
    }
   ],
   "source": [
    "import numpy as np\n",
    "@con('double(double)')\n",
    "def add_two(a):\n",
    "    return np.add(a,2.0)"
   ]
  },
  {
   "cell_type": "code",
   "execution_count": 8,
   "metadata": {
    "ExecuteTime": {
     "end_time": "2019-12-23T22:24:20.157494Z",
     "start_time": "2019-12-23T22:24:20.153562Z"
    }
   },
   "outputs": [
    {
     "data": {
      "text/plain": [
       "[ColumnDetails(name='wellapi', type='STR', nullable=True, precision=0, scale=0, comp_param=32, encoding='DICT', is_array=False),\n",
       " ColumnDetails(name='qi_hyp', type='DOUBLE', nullable=True, precision=0, scale=0, comp_param=0, encoding='NONE', is_array=False),\n",
       " ColumnDetails(name='b', type='DOUBLE', nullable=True, precision=0, scale=0, comp_param=0, encoding='NONE', is_array=False),\n",
       " ColumnDetails(name='di_exp', type='DOUBLE', nullable=True, precision=0, scale=0, comp_param=0, encoding='NONE', is_array=False),\n",
       " ColumnDetails(name='di_hyp', type='DOUBLE', nullable=True, precision=0, scale=0, comp_param=0, encoding='NONE', is_array=False)]"
      ]
     },
     "execution_count": 8,
     "metadata": {},
     "output_type": "execute_result"
    }
   ],
   "source": [
    "con.get_table_details('well_parameters')"
   ]
  },
  {
   "cell_type": "code",
   "execution_count": 9,
   "metadata": {
    "ExecuteTime": {
     "end_time": "2019-12-23T22:24:20.932324Z",
     "start_time": "2019-12-23T22:24:20.879219Z"
    }
   },
   "outputs": [
    {
     "ename": "TypingError",
     "evalue": "Failed in nopython mode pipeline (step: nopython frontend)\nUse of unsupported NumPy function 'numpy.add' or unsupported use of the function.\n\nFile \"<ipython-input-7-cc9bcf7e659d>\", line 4:\ndef add_two(a):\n    return np.add(a,2.0)\n    ^\n\n[1] During: typing of get attribute at <ipython-input-7-cc9bcf7e659d> (4)\n\nFile \"<ipython-input-7-cc9bcf7e659d>\", line 4:\ndef add_two(a):\n    return np.add(a,2.0)\n    ^\n",
     "output_type": "error",
     "traceback": [
      "\u001b[0;31m---------------------------------------------------------------------------\u001b[0m",
      "\u001b[0;31mTypingError\u001b[0m                               Traceback (most recent call last)",
      "\u001b[0;32m<ipython-input-9-ed87ab3f7151>\u001b[0m in \u001b[0;36m<module>\u001b[0;34m\u001b[0m\n\u001b[1;32m      1\u001b[0m \u001b[0mquery\u001b[0m \u001b[0;34m=\u001b[0m \u001b[0;34m(\u001b[0m\u001b[0;34m\"Select add_two(di_hyp) from well_parameters limit 10\"\u001b[0m\u001b[0;34m)\u001b[0m\u001b[0;34m\u001b[0m\u001b[0;34m\u001b[0m\u001b[0m\n\u001b[1;32m      2\u001b[0m \u001b[0;34m\u001b[0m\u001b[0m\n\u001b[0;32m----> 3\u001b[0;31m \u001b[0mdf\u001b[0m \u001b[0;34m=\u001b[0m \u001b[0mcon\u001b[0m\u001b[0;34m.\u001b[0m\u001b[0mselect_ipc\u001b[0m\u001b[0;34m(\u001b[0m\u001b[0mquery\u001b[0m\u001b[0;34m)\u001b[0m\u001b[0;34m\u001b[0m\u001b[0;34m\u001b[0m\u001b[0m\n\u001b[0m",
      "\u001b[0;32m~/miniconda3/envs/decline_curve/lib/python3.7/site-packages/pymapd/connection.py\u001b[0m in \u001b[0;36mselect_ipc\u001b[0;34m(self, operation, parameters, first_n, release_memory)\u001b[0m\n\u001b[1;32m    373\u001b[0m         \u001b[0mwhere\u001b[0m \u001b[0mOmniSci\u001b[0m \u001b[0mrunning\u001b[0m\u001b[0;34m.\u001b[0m\u001b[0;34m\u001b[0m\u001b[0;34m\u001b[0m\u001b[0m\n\u001b[1;32m    374\u001b[0m         \"\"\"\n\u001b[0;32m--> 375\u001b[0;31m         \u001b[0mself\u001b[0m\u001b[0;34m.\u001b[0m\u001b[0mregister_runtime_udfs\u001b[0m\u001b[0;34m(\u001b[0m\u001b[0;34m)\u001b[0m\u001b[0;34m\u001b[0m\u001b[0;34m\u001b[0m\u001b[0m\n\u001b[0m\u001b[1;32m    376\u001b[0m \u001b[0;34m\u001b[0m\u001b[0m\n\u001b[1;32m    377\u001b[0m         \u001b[0;32mif\u001b[0m \u001b[0mparameters\u001b[0m \u001b[0;32mis\u001b[0m \u001b[0;32mnot\u001b[0m \u001b[0;32mNone\u001b[0m\u001b[0;34m:\u001b[0m\u001b[0;34m\u001b[0m\u001b[0;34m\u001b[0m\u001b[0m\n",
      "\u001b[0;32m~/miniconda3/envs/decline_curve/lib/python3.7/site-packages/pymapd/connection.py\u001b[0m in \u001b[0;36mregister_runtime_udfs\u001b[0;34m(self)\u001b[0m\n\u001b[1;32m    799\u001b[0m         \"\"\"\n\u001b[1;32m    800\u001b[0m         \u001b[0;32mif\u001b[0m \u001b[0mself\u001b[0m\u001b[0;34m.\u001b[0m\u001b[0m_rbc\u001b[0m \u001b[0;32mis\u001b[0m \u001b[0;32mnot\u001b[0m \u001b[0;32mNone\u001b[0m\u001b[0;34m:\u001b[0m\u001b[0;34m\u001b[0m\u001b[0;34m\u001b[0m\u001b[0m\n\u001b[0;32m--> 801\u001b[0;31m             \u001b[0mself\u001b[0m\u001b[0;34m.\u001b[0m\u001b[0m_rbc\u001b[0m\u001b[0;34m.\u001b[0m\u001b[0mregister\u001b[0m\u001b[0;34m(\u001b[0m\u001b[0;34m)\u001b[0m\u001b[0;34m\u001b[0m\u001b[0;34m\u001b[0m\u001b[0m\n\u001b[0m\u001b[1;32m    802\u001b[0m \u001b[0;34m\u001b[0m\u001b[0m\n\u001b[1;32m    803\u001b[0m \u001b[0;34m\u001b[0m\u001b[0m\n",
      "\u001b[0;32m~/miniconda3/envs/decline_curve/lib/python3.7/site-packages/rbc/mapd.py\u001b[0m in \u001b[0;36mregister\u001b[0;34m(self)\u001b[0m\n\u001b[1;32m    250\u001b[0m                 \u001b[0mdevice\u001b[0m \u001b[0;34m=\u001b[0m \u001b[0mprop\u001b[0m\u001b[0;34m.\u001b[0m\u001b[0mrsplit\u001b[0m\u001b[0;34m(\u001b[0m\u001b[0;34m'_'\u001b[0m\u001b[0;34m,\u001b[0m \u001b[0;36m1\u001b[0m\u001b[0;34m)\u001b[0m\u001b[0;34m[\u001b[0m\u001b[0;36m0\u001b[0m\u001b[0;34m]\u001b[0m\u001b[0;34m\u001b[0m\u001b[0;34m\u001b[0m\u001b[0m\n\u001b[1;32m    251\u001b[0m                 \u001b[0mdevice_target_map\u001b[0m\u001b[0;34m[\u001b[0m\u001b[0mdevice\u001b[0m\u001b[0;34m]\u001b[0m \u001b[0;34m=\u001b[0m \u001b[0mvalue\u001b[0m\u001b[0;34m\u001b[0m\u001b[0;34m\u001b[0m\u001b[0m\n\u001b[0;32m--> 252\u001b[0;31m         \u001b[0mir_map\u001b[0m \u001b[0;34m=\u001b[0m \u001b[0mself\u001b[0m\u001b[0;34m.\u001b[0m\u001b[0mcompile_to_LLVM\u001b[0m\u001b[0;34m(\u001b[0m\u001b[0mtargets\u001b[0m\u001b[0;34m=\u001b[0m\u001b[0mdevice_target_map\u001b[0m\u001b[0;34m.\u001b[0m\u001b[0mvalues\u001b[0m\u001b[0;34m(\u001b[0m\u001b[0;34m)\u001b[0m\u001b[0;34m)\u001b[0m\u001b[0;34m\u001b[0m\u001b[0;34m\u001b[0m\u001b[0m\n\u001b[0m\u001b[1;32m    253\u001b[0m         \u001b[0mdevice_ir_map\u001b[0m \u001b[0;34m=\u001b[0m \u001b[0;34m{\u001b[0m\u001b[0;34m}\u001b[0m\u001b[0;34m\u001b[0m\u001b[0;34m\u001b[0m\u001b[0m\n\u001b[1;32m    254\u001b[0m         \u001b[0;32mfor\u001b[0m \u001b[0mdevice\u001b[0m\u001b[0;34m,\u001b[0m \u001b[0mtarget\u001b[0m \u001b[0;32min\u001b[0m \u001b[0mdevice_target_map\u001b[0m\u001b[0;34m.\u001b[0m\u001b[0mitems\u001b[0m\u001b[0;34m(\u001b[0m\u001b[0;34m)\u001b[0m\u001b[0;34m:\u001b[0m\u001b[0;34m\u001b[0m\u001b[0;34m\u001b[0m\u001b[0m\n",
      "\u001b[0;32m~/miniconda3/envs/decline_curve/lib/python3.7/site-packages/rbc/remotejit.py\u001b[0m in \u001b[0;36mcompile_to_LLVM\u001b[0;34m(self, targets)\u001b[0m\n\u001b[1;32m    101\u001b[0m                 ir_map[target] = irtools.compile_to_LLVM(\n\u001b[1;32m    102\u001b[0m                     \u001b[0mfunctions_and_signatures\u001b[0m\u001b[0;34m,\u001b[0m \u001b[0mtarget\u001b[0m\u001b[0;34m,\u001b[0m\u001b[0;34m\u001b[0m\u001b[0;34m\u001b[0m\u001b[0m\n\u001b[0;32m--> 103\u001b[0;31m                     debug=self.debug, **self.options)\n\u001b[0m\u001b[1;32m    104\u001b[0m             \u001b[0mself\u001b[0m\u001b[0;34m.\u001b[0m\u001b[0m_last_ir_map\u001b[0m \u001b[0;34m=\u001b[0m \u001b[0mir_map\u001b[0m\u001b[0;34m\u001b[0m\u001b[0;34m\u001b[0m\u001b[0m\n\u001b[1;32m    105\u001b[0m         \u001b[0;32mreturn\u001b[0m \u001b[0mself\u001b[0m\u001b[0;34m.\u001b[0m\u001b[0m_last_ir_map\u001b[0m\u001b[0;34m\u001b[0m\u001b[0;34m\u001b[0m\u001b[0m\n",
      "\u001b[0;32m~/miniconda3/envs/decline_curve/lib/python3.7/site-packages/rbc/irtools.py\u001b[0m in \u001b[0;36mcompile_to_LLVM\u001b[0;34m(functions_and_signatures, target, server, use_host_target, debug)\u001b[0m\n\u001b[1;32m    118\u001b[0m                                              \u001b[0mflags\u001b[0m\u001b[0;34m=\u001b[0m\u001b[0mflags\u001b[0m\u001b[0;34m,\u001b[0m\u001b[0;34m\u001b[0m\u001b[0;34m\u001b[0m\u001b[0m\n\u001b[1;32m    119\u001b[0m                                              \u001b[0mlibrary\u001b[0m\u001b[0;34m=\u001b[0m\u001b[0mmain_library\u001b[0m\u001b[0;34m,\u001b[0m\u001b[0;34m\u001b[0m\u001b[0;34m\u001b[0m\u001b[0m\n\u001b[0;32m--> 120\u001b[0;31m                                              locals={})\n\u001b[0m\u001b[1;32m    121\u001b[0m             \u001b[0;31m# The compilation result contains a function with\u001b[0m\u001b[0;34m\u001b[0m\u001b[0;34m\u001b[0m\u001b[0;34m\u001b[0m\u001b[0m\n\u001b[1;32m    122\u001b[0m             \u001b[0;31m# prototype `<function name>(<rtype>* result,\u001b[0m\u001b[0;34m\u001b[0m\u001b[0;34m\u001b[0m\u001b[0;34m\u001b[0m\u001b[0m\n",
      "\u001b[0;32m~/miniconda3/envs/decline_curve/lib/python3.7/site-packages/numba/compiler.py\u001b[0m in \u001b[0;36mcompile_extra\u001b[0;34m(typingctx, targetctx, func, args, return_type, flags, locals, library, pipeline_class)\u001b[0m\n\u001b[1;32m    526\u001b[0m     pipeline = pipeline_class(typingctx, targetctx, library,\n\u001b[1;32m    527\u001b[0m                               args, return_type, flags, locals)\n\u001b[0;32m--> 528\u001b[0;31m     \u001b[0;32mreturn\u001b[0m \u001b[0mpipeline\u001b[0m\u001b[0;34m.\u001b[0m\u001b[0mcompile_extra\u001b[0m\u001b[0;34m(\u001b[0m\u001b[0mfunc\u001b[0m\u001b[0;34m)\u001b[0m\u001b[0;34m\u001b[0m\u001b[0;34m\u001b[0m\u001b[0m\n\u001b[0m\u001b[1;32m    529\u001b[0m \u001b[0;34m\u001b[0m\u001b[0m\n\u001b[1;32m    530\u001b[0m \u001b[0;34m\u001b[0m\u001b[0m\n",
      "\u001b[0;32m~/miniconda3/envs/decline_curve/lib/python3.7/site-packages/numba/compiler.py\u001b[0m in \u001b[0;36mcompile_extra\u001b[0;34m(self, func)\u001b[0m\n\u001b[1;32m    324\u001b[0m         \u001b[0mself\u001b[0m\u001b[0;34m.\u001b[0m\u001b[0mstate\u001b[0m\u001b[0;34m.\u001b[0m\u001b[0mlifted\u001b[0m \u001b[0;34m=\u001b[0m \u001b[0;34m(\u001b[0m\u001b[0;34m)\u001b[0m\u001b[0;34m\u001b[0m\u001b[0;34m\u001b[0m\u001b[0m\n\u001b[1;32m    325\u001b[0m         \u001b[0mself\u001b[0m\u001b[0;34m.\u001b[0m\u001b[0mstate\u001b[0m\u001b[0;34m.\u001b[0m\u001b[0mlifted_from\u001b[0m \u001b[0;34m=\u001b[0m \u001b[0;32mNone\u001b[0m\u001b[0;34m\u001b[0m\u001b[0;34m\u001b[0m\u001b[0m\n\u001b[0;32m--> 326\u001b[0;31m         \u001b[0;32mreturn\u001b[0m \u001b[0mself\u001b[0m\u001b[0;34m.\u001b[0m\u001b[0m_compile_bytecode\u001b[0m\u001b[0;34m(\u001b[0m\u001b[0;34m)\u001b[0m\u001b[0;34m\u001b[0m\u001b[0;34m\u001b[0m\u001b[0m\n\u001b[0m\u001b[1;32m    327\u001b[0m \u001b[0;34m\u001b[0m\u001b[0m\n\u001b[1;32m    328\u001b[0m     \u001b[0;32mdef\u001b[0m \u001b[0mcompile_ir\u001b[0m\u001b[0;34m(\u001b[0m\u001b[0mself\u001b[0m\u001b[0;34m,\u001b[0m \u001b[0mfunc_ir\u001b[0m\u001b[0;34m,\u001b[0m \u001b[0mlifted\u001b[0m\u001b[0;34m=\u001b[0m\u001b[0;34m(\u001b[0m\u001b[0;34m)\u001b[0m\u001b[0;34m,\u001b[0m \u001b[0mlifted_from\u001b[0m\u001b[0;34m=\u001b[0m\u001b[0;32mNone\u001b[0m\u001b[0;34m)\u001b[0m\u001b[0;34m:\u001b[0m\u001b[0;34m\u001b[0m\u001b[0;34m\u001b[0m\u001b[0m\n",
      "\u001b[0;32m~/miniconda3/envs/decline_curve/lib/python3.7/site-packages/numba/compiler.py\u001b[0m in \u001b[0;36m_compile_bytecode\u001b[0;34m(self)\u001b[0m\n\u001b[1;32m    383\u001b[0m         \"\"\"\n\u001b[1;32m    384\u001b[0m         \u001b[0;32massert\u001b[0m \u001b[0mself\u001b[0m\u001b[0;34m.\u001b[0m\u001b[0mstate\u001b[0m\u001b[0;34m.\u001b[0m\u001b[0mfunc_ir\u001b[0m \u001b[0;32mis\u001b[0m \u001b[0;32mNone\u001b[0m\u001b[0;34m\u001b[0m\u001b[0;34m\u001b[0m\u001b[0m\n\u001b[0;32m--> 385\u001b[0;31m         \u001b[0;32mreturn\u001b[0m \u001b[0mself\u001b[0m\u001b[0;34m.\u001b[0m\u001b[0m_compile_core\u001b[0m\u001b[0;34m(\u001b[0m\u001b[0;34m)\u001b[0m\u001b[0;34m\u001b[0m\u001b[0;34m\u001b[0m\u001b[0m\n\u001b[0m\u001b[1;32m    386\u001b[0m \u001b[0;34m\u001b[0m\u001b[0m\n\u001b[1;32m    387\u001b[0m     \u001b[0;32mdef\u001b[0m \u001b[0m_compile_ir\u001b[0m\u001b[0;34m(\u001b[0m\u001b[0mself\u001b[0m\u001b[0;34m)\u001b[0m\u001b[0;34m:\u001b[0m\u001b[0;34m\u001b[0m\u001b[0;34m\u001b[0m\u001b[0m\n",
      "\u001b[0;32m~/miniconda3/envs/decline_curve/lib/python3.7/site-packages/numba/compiler.py\u001b[0m in \u001b[0;36m_compile_core\u001b[0;34m(self)\u001b[0m\n\u001b[1;32m    363\u001b[0m                 \u001b[0mself\u001b[0m\u001b[0;34m.\u001b[0m\u001b[0mstate\u001b[0m\u001b[0;34m.\u001b[0m\u001b[0mstatus\u001b[0m\u001b[0;34m.\u001b[0m\u001b[0mfail_reason\u001b[0m \u001b[0;34m=\u001b[0m \u001b[0me\u001b[0m\u001b[0;34m\u001b[0m\u001b[0;34m\u001b[0m\u001b[0m\n\u001b[1;32m    364\u001b[0m                 \u001b[0;32mif\u001b[0m \u001b[0mis_final_pipeline\u001b[0m\u001b[0;34m:\u001b[0m\u001b[0;34m\u001b[0m\u001b[0;34m\u001b[0m\u001b[0m\n\u001b[0;32m--> 365\u001b[0;31m                     \u001b[0;32mraise\u001b[0m \u001b[0me\u001b[0m\u001b[0;34m\u001b[0m\u001b[0;34m\u001b[0m\u001b[0m\n\u001b[0m\u001b[1;32m    366\u001b[0m         \u001b[0;32melse\u001b[0m\u001b[0;34m:\u001b[0m\u001b[0;34m\u001b[0m\u001b[0;34m\u001b[0m\u001b[0m\n\u001b[1;32m    367\u001b[0m             \u001b[0;32mraise\u001b[0m \u001b[0mCompilerError\u001b[0m\u001b[0;34m(\u001b[0m\u001b[0;34m\"All available pipelines exhausted\"\u001b[0m\u001b[0;34m)\u001b[0m\u001b[0;34m\u001b[0m\u001b[0;34m\u001b[0m\u001b[0m\n",
      "\u001b[0;32m~/miniconda3/envs/decline_curve/lib/python3.7/site-packages/numba/compiler.py\u001b[0m in \u001b[0;36m_compile_core\u001b[0;34m(self)\u001b[0m\n\u001b[1;32m    354\u001b[0m             \u001b[0mres\u001b[0m \u001b[0;34m=\u001b[0m \u001b[0;32mNone\u001b[0m\u001b[0;34m\u001b[0m\u001b[0;34m\u001b[0m\u001b[0m\n\u001b[1;32m    355\u001b[0m             \u001b[0;32mtry\u001b[0m\u001b[0;34m:\u001b[0m\u001b[0;34m\u001b[0m\u001b[0;34m\u001b[0m\u001b[0m\n\u001b[0;32m--> 356\u001b[0;31m                 \u001b[0mpm\u001b[0m\u001b[0;34m.\u001b[0m\u001b[0mrun\u001b[0m\u001b[0;34m(\u001b[0m\u001b[0mself\u001b[0m\u001b[0;34m.\u001b[0m\u001b[0mstate\u001b[0m\u001b[0;34m)\u001b[0m\u001b[0;34m\u001b[0m\u001b[0;34m\u001b[0m\u001b[0m\n\u001b[0m\u001b[1;32m    357\u001b[0m                 \u001b[0;32mif\u001b[0m \u001b[0mself\u001b[0m\u001b[0;34m.\u001b[0m\u001b[0mstate\u001b[0m\u001b[0;34m.\u001b[0m\u001b[0mcr\u001b[0m \u001b[0;32mis\u001b[0m \u001b[0;32mnot\u001b[0m \u001b[0;32mNone\u001b[0m\u001b[0;34m:\u001b[0m\u001b[0;34m\u001b[0m\u001b[0;34m\u001b[0m\u001b[0m\n\u001b[1;32m    358\u001b[0m                     \u001b[0;32mbreak\u001b[0m\u001b[0;34m\u001b[0m\u001b[0;34m\u001b[0m\u001b[0m\n",
      "\u001b[0;32m~/miniconda3/envs/decline_curve/lib/python3.7/site-packages/numba/compiler_machinery.py\u001b[0m in \u001b[0;36mrun\u001b[0;34m(self, state)\u001b[0m\n\u001b[1;32m    326\u001b[0m                     \u001b[0;34m(\u001b[0m\u001b[0mself\u001b[0m\u001b[0;34m.\u001b[0m\u001b[0mpipeline_name\u001b[0m\u001b[0;34m,\u001b[0m \u001b[0mpass_desc\u001b[0m\u001b[0;34m)\u001b[0m\u001b[0;34m\u001b[0m\u001b[0;34m\u001b[0m\u001b[0m\n\u001b[1;32m    327\u001b[0m                 \u001b[0mpatched_exception\u001b[0m \u001b[0;34m=\u001b[0m \u001b[0mself\u001b[0m\u001b[0;34m.\u001b[0m\u001b[0m_patch_error\u001b[0m\u001b[0;34m(\u001b[0m\u001b[0mmsg\u001b[0m\u001b[0;34m,\u001b[0m \u001b[0me\u001b[0m\u001b[0;34m)\u001b[0m\u001b[0;34m\u001b[0m\u001b[0;34m\u001b[0m\u001b[0m\n\u001b[0;32m--> 328\u001b[0;31m                 \u001b[0;32mraise\u001b[0m \u001b[0mpatched_exception\u001b[0m\u001b[0;34m\u001b[0m\u001b[0;34m\u001b[0m\u001b[0m\n\u001b[0m\u001b[1;32m    329\u001b[0m \u001b[0;34m\u001b[0m\u001b[0m\n\u001b[1;32m    330\u001b[0m     \u001b[0;32mdef\u001b[0m \u001b[0mdependency_analysis\u001b[0m\u001b[0;34m(\u001b[0m\u001b[0mself\u001b[0m\u001b[0;34m)\u001b[0m\u001b[0;34m:\u001b[0m\u001b[0;34m\u001b[0m\u001b[0;34m\u001b[0m\u001b[0m\n",
      "\u001b[0;32m~/miniconda3/envs/decline_curve/lib/python3.7/site-packages/numba/compiler_machinery.py\u001b[0m in \u001b[0;36mrun\u001b[0;34m(self, state)\u001b[0m\n\u001b[1;32m    317\u001b[0m                 \u001b[0mpass_inst\u001b[0m \u001b[0;34m=\u001b[0m \u001b[0m_pass_registry\u001b[0m\u001b[0;34m.\u001b[0m\u001b[0mget\u001b[0m\u001b[0;34m(\u001b[0m\u001b[0mpss\u001b[0m\u001b[0;34m)\u001b[0m\u001b[0;34m.\u001b[0m\u001b[0mpass_inst\u001b[0m\u001b[0;34m\u001b[0m\u001b[0;34m\u001b[0m\u001b[0m\n\u001b[1;32m    318\u001b[0m                 \u001b[0;32mif\u001b[0m \u001b[0misinstance\u001b[0m\u001b[0;34m(\u001b[0m\u001b[0mpass_inst\u001b[0m\u001b[0;34m,\u001b[0m \u001b[0mCompilerPass\u001b[0m\u001b[0;34m)\u001b[0m\u001b[0;34m:\u001b[0m\u001b[0;34m\u001b[0m\u001b[0;34m\u001b[0m\u001b[0m\n\u001b[0;32m--> 319\u001b[0;31m                     \u001b[0mself\u001b[0m\u001b[0;34m.\u001b[0m\u001b[0m_runPass\u001b[0m\u001b[0;34m(\u001b[0m\u001b[0midx\u001b[0m\u001b[0;34m,\u001b[0m \u001b[0mpass_inst\u001b[0m\u001b[0;34m,\u001b[0m \u001b[0mstate\u001b[0m\u001b[0;34m)\u001b[0m\u001b[0;34m\u001b[0m\u001b[0;34m\u001b[0m\u001b[0m\n\u001b[0m\u001b[1;32m    320\u001b[0m                 \u001b[0;32melse\u001b[0m\u001b[0;34m:\u001b[0m\u001b[0;34m\u001b[0m\u001b[0;34m\u001b[0m\u001b[0m\n\u001b[1;32m    321\u001b[0m                     \u001b[0;32mraise\u001b[0m \u001b[0mBaseException\u001b[0m\u001b[0;34m(\u001b[0m\u001b[0;34m\"Legacy pass in use\"\u001b[0m\u001b[0;34m)\u001b[0m\u001b[0;34m\u001b[0m\u001b[0;34m\u001b[0m\u001b[0m\n",
      "\u001b[0;32m~/miniconda3/envs/decline_curve/lib/python3.7/site-packages/numba/compiler_lock.py\u001b[0m in \u001b[0;36m_acquire_compile_lock\u001b[0;34m(*args, **kwargs)\u001b[0m\n\u001b[1;32m     30\u001b[0m         \u001b[0;32mdef\u001b[0m \u001b[0m_acquire_compile_lock\u001b[0m\u001b[0;34m(\u001b[0m\u001b[0;34m*\u001b[0m\u001b[0margs\u001b[0m\u001b[0;34m,\u001b[0m \u001b[0;34m**\u001b[0m\u001b[0mkwargs\u001b[0m\u001b[0;34m)\u001b[0m\u001b[0;34m:\u001b[0m\u001b[0;34m\u001b[0m\u001b[0;34m\u001b[0m\u001b[0m\n\u001b[1;32m     31\u001b[0m             \u001b[0;32mwith\u001b[0m \u001b[0mself\u001b[0m\u001b[0;34m:\u001b[0m\u001b[0;34m\u001b[0m\u001b[0;34m\u001b[0m\u001b[0m\n\u001b[0;32m---> 32\u001b[0;31m                 \u001b[0;32mreturn\u001b[0m \u001b[0mfunc\u001b[0m\u001b[0;34m(\u001b[0m\u001b[0;34m*\u001b[0m\u001b[0margs\u001b[0m\u001b[0;34m,\u001b[0m \u001b[0;34m**\u001b[0m\u001b[0mkwargs\u001b[0m\u001b[0;34m)\u001b[0m\u001b[0;34m\u001b[0m\u001b[0;34m\u001b[0m\u001b[0m\n\u001b[0m\u001b[1;32m     33\u001b[0m         \u001b[0;32mreturn\u001b[0m \u001b[0m_acquire_compile_lock\u001b[0m\u001b[0;34m\u001b[0m\u001b[0;34m\u001b[0m\u001b[0m\n\u001b[1;32m     34\u001b[0m \u001b[0;34m\u001b[0m\u001b[0m\n",
      "\u001b[0;32m~/miniconda3/envs/decline_curve/lib/python3.7/site-packages/numba/compiler_machinery.py\u001b[0m in \u001b[0;36m_runPass\u001b[0;34m(self, index, pss, internal_state)\u001b[0m\n\u001b[1;32m    279\u001b[0m             \u001b[0mmutated\u001b[0m \u001b[0;34m|=\u001b[0m \u001b[0mcheck\u001b[0m\u001b[0;34m(\u001b[0m\u001b[0mpss\u001b[0m\u001b[0;34m.\u001b[0m\u001b[0mrun_initialization\u001b[0m\u001b[0;34m,\u001b[0m \u001b[0minternal_state\u001b[0m\u001b[0;34m)\u001b[0m\u001b[0;34m\u001b[0m\u001b[0;34m\u001b[0m\u001b[0m\n\u001b[1;32m    280\u001b[0m         \u001b[0;32mwith\u001b[0m \u001b[0mSimpleTimer\u001b[0m\u001b[0;34m(\u001b[0m\u001b[0;34m)\u001b[0m \u001b[0;32mas\u001b[0m \u001b[0mpass_time\u001b[0m\u001b[0;34m:\u001b[0m\u001b[0;34m\u001b[0m\u001b[0;34m\u001b[0m\u001b[0m\n\u001b[0;32m--> 281\u001b[0;31m             \u001b[0mmutated\u001b[0m \u001b[0;34m|=\u001b[0m \u001b[0mcheck\u001b[0m\u001b[0;34m(\u001b[0m\u001b[0mpss\u001b[0m\u001b[0;34m.\u001b[0m\u001b[0mrun_pass\u001b[0m\u001b[0;34m,\u001b[0m \u001b[0minternal_state\u001b[0m\u001b[0;34m)\u001b[0m\u001b[0;34m\u001b[0m\u001b[0;34m\u001b[0m\u001b[0m\n\u001b[0m\u001b[1;32m    282\u001b[0m         \u001b[0;32mwith\u001b[0m \u001b[0mSimpleTimer\u001b[0m\u001b[0;34m(\u001b[0m\u001b[0;34m)\u001b[0m \u001b[0;32mas\u001b[0m \u001b[0mfinalize_time\u001b[0m\u001b[0;34m:\u001b[0m\u001b[0;34m\u001b[0m\u001b[0;34m\u001b[0m\u001b[0m\n\u001b[1;32m    283\u001b[0m             \u001b[0mmutated\u001b[0m \u001b[0;34m|=\u001b[0m \u001b[0mcheck\u001b[0m\u001b[0;34m(\u001b[0m\u001b[0mpss\u001b[0m\u001b[0;34m.\u001b[0m\u001b[0mrun_finalizer\u001b[0m\u001b[0;34m,\u001b[0m \u001b[0minternal_state\u001b[0m\u001b[0;34m)\u001b[0m\u001b[0;34m\u001b[0m\u001b[0;34m\u001b[0m\u001b[0m\n",
      "\u001b[0;32m~/miniconda3/envs/decline_curve/lib/python3.7/site-packages/numba/compiler_machinery.py\u001b[0m in \u001b[0;36mcheck\u001b[0;34m(func, compiler_state)\u001b[0m\n\u001b[1;32m    266\u001b[0m \u001b[0;34m\u001b[0m\u001b[0m\n\u001b[1;32m    267\u001b[0m         \u001b[0;32mdef\u001b[0m \u001b[0mcheck\u001b[0m\u001b[0;34m(\u001b[0m\u001b[0mfunc\u001b[0m\u001b[0;34m,\u001b[0m \u001b[0mcompiler_state\u001b[0m\u001b[0;34m)\u001b[0m\u001b[0;34m:\u001b[0m\u001b[0;34m\u001b[0m\u001b[0;34m\u001b[0m\u001b[0m\n\u001b[0;32m--> 268\u001b[0;31m             \u001b[0mmangled\u001b[0m \u001b[0;34m=\u001b[0m \u001b[0mfunc\u001b[0m\u001b[0;34m(\u001b[0m\u001b[0mcompiler_state\u001b[0m\u001b[0;34m)\u001b[0m\u001b[0;34m\u001b[0m\u001b[0;34m\u001b[0m\u001b[0m\n\u001b[0m\u001b[1;32m    269\u001b[0m             \u001b[0;32mif\u001b[0m \u001b[0mmangled\u001b[0m \u001b[0;32mnot\u001b[0m \u001b[0;32min\u001b[0m \u001b[0;34m(\u001b[0m\u001b[0;32mTrue\u001b[0m\u001b[0;34m,\u001b[0m \u001b[0;32mFalse\u001b[0m\u001b[0;34m)\u001b[0m\u001b[0;34m:\u001b[0m\u001b[0;34m\u001b[0m\u001b[0;34m\u001b[0m\u001b[0m\n\u001b[1;32m    270\u001b[0m                 msg = (\"CompilerPass implementations should return True/False. \"\n",
      "\u001b[0;32m~/miniconda3/envs/decline_curve/lib/python3.7/site-packages/numba/typed_passes.py\u001b[0m in \u001b[0;36mrun_pass\u001b[0;34m(self, state)\u001b[0m\n\u001b[1;32m     92\u001b[0m                 \u001b[0mstate\u001b[0m\u001b[0;34m.\u001b[0m\u001b[0margs\u001b[0m\u001b[0;34m,\u001b[0m\u001b[0;34m\u001b[0m\u001b[0;34m\u001b[0m\u001b[0m\n\u001b[1;32m     93\u001b[0m                 \u001b[0mstate\u001b[0m\u001b[0;34m.\u001b[0m\u001b[0mreturn_type\u001b[0m\u001b[0;34m,\u001b[0m\u001b[0;34m\u001b[0m\u001b[0;34m\u001b[0m\u001b[0m\n\u001b[0;32m---> 94\u001b[0;31m                 state.locals)\n\u001b[0m\u001b[1;32m     95\u001b[0m             \u001b[0mstate\u001b[0m\u001b[0;34m.\u001b[0m\u001b[0mtypemap\u001b[0m \u001b[0;34m=\u001b[0m \u001b[0mtypemap\u001b[0m\u001b[0;34m\u001b[0m\u001b[0;34m\u001b[0m\u001b[0m\n\u001b[1;32m     96\u001b[0m             \u001b[0mstate\u001b[0m\u001b[0;34m.\u001b[0m\u001b[0mreturn_type\u001b[0m \u001b[0;34m=\u001b[0m \u001b[0mreturn_type\u001b[0m\u001b[0;34m\u001b[0m\u001b[0;34m\u001b[0m\u001b[0m\n",
      "\u001b[0;32m~/miniconda3/envs/decline_curve/lib/python3.7/site-packages/numba/typed_passes.py\u001b[0m in \u001b[0;36mtype_inference_stage\u001b[0;34m(typingctx, interp, args, return_type, locals)\u001b[0m\n\u001b[1;32m     64\u001b[0m \u001b[0;34m\u001b[0m\u001b[0m\n\u001b[1;32m     65\u001b[0m         \u001b[0minfer\u001b[0m\u001b[0;34m.\u001b[0m\u001b[0mbuild_constraint\u001b[0m\u001b[0;34m(\u001b[0m\u001b[0;34m)\u001b[0m\u001b[0;34m\u001b[0m\u001b[0;34m\u001b[0m\u001b[0m\n\u001b[0;32m---> 66\u001b[0;31m         \u001b[0minfer\u001b[0m\u001b[0;34m.\u001b[0m\u001b[0mpropagate\u001b[0m\u001b[0;34m(\u001b[0m\u001b[0;34m)\u001b[0m\u001b[0;34m\u001b[0m\u001b[0;34m\u001b[0m\u001b[0m\n\u001b[0m\u001b[1;32m     67\u001b[0m         \u001b[0mtypemap\u001b[0m\u001b[0;34m,\u001b[0m \u001b[0mrestype\u001b[0m\u001b[0;34m,\u001b[0m \u001b[0mcalltypes\u001b[0m \u001b[0;34m=\u001b[0m \u001b[0minfer\u001b[0m\u001b[0;34m.\u001b[0m\u001b[0munify\u001b[0m\u001b[0;34m(\u001b[0m\u001b[0;34m)\u001b[0m\u001b[0;34m\u001b[0m\u001b[0;34m\u001b[0m\u001b[0m\n\u001b[1;32m     68\u001b[0m \u001b[0;34m\u001b[0m\u001b[0m\n",
      "\u001b[0;32m~/miniconda3/envs/decline_curve/lib/python3.7/site-packages/numba/typeinfer.py\u001b[0m in \u001b[0;36mpropagate\u001b[0;34m(self, raise_errors)\u001b[0m\n\u001b[1;32m    949\u001b[0m                                   if isinstance(e, ForceLiteralArg)]\n\u001b[1;32m    950\u001b[0m                 \u001b[0;32mif\u001b[0m \u001b[0;32mnot\u001b[0m \u001b[0mforce_lit_args\u001b[0m\u001b[0;34m:\u001b[0m\u001b[0;34m\u001b[0m\u001b[0;34m\u001b[0m\u001b[0m\n\u001b[0;32m--> 951\u001b[0;31m                     \u001b[0;32mraise\u001b[0m \u001b[0merrors\u001b[0m\u001b[0;34m[\u001b[0m\u001b[0;36m0\u001b[0m\u001b[0;34m]\u001b[0m\u001b[0;34m\u001b[0m\u001b[0;34m\u001b[0m\u001b[0m\n\u001b[0m\u001b[1;32m    952\u001b[0m                 \u001b[0;32melse\u001b[0m\u001b[0;34m:\u001b[0m\u001b[0;34m\u001b[0m\u001b[0;34m\u001b[0m\u001b[0m\n\u001b[1;32m    953\u001b[0m                     \u001b[0;32mraise\u001b[0m \u001b[0mreduce\u001b[0m\u001b[0;34m(\u001b[0m\u001b[0moperator\u001b[0m\u001b[0;34m.\u001b[0m\u001b[0mor_\u001b[0m\u001b[0;34m,\u001b[0m \u001b[0mforce_lit_args\u001b[0m\u001b[0;34m)\u001b[0m\u001b[0;34m\u001b[0m\u001b[0;34m\u001b[0m\u001b[0m\n",
      "\u001b[0;31mTypingError\u001b[0m: Failed in nopython mode pipeline (step: nopython frontend)\nUse of unsupported NumPy function 'numpy.add' or unsupported use of the function.\n\nFile \"<ipython-input-7-cc9bcf7e659d>\", line 4:\ndef add_two(a):\n    return np.add(a,2.0)\n    ^\n\n[1] During: typing of get attribute at <ipython-input-7-cc9bcf7e659d> (4)\n\nFile \"<ipython-input-7-cc9bcf7e659d>\", line 4:\ndef add_two(a):\n    return np.add(a,2.0)\n    ^\n"
     ]
    }
   ],
   "source": [
    "query = (\"Select add_two(di_hyp) from well_parameters limit 10\")\n",
    "\n",
    "df = con.select_ipc(query)\n"
   ]
  },
  {
   "cell_type": "code",
   "execution_count": null,
   "metadata": {
    "ExecuteTime": {
     "end_time": "2019-12-20T16:19:09.500915Z",
     "start_time": "2019-12-20T16:19:09.469285Z"
    }
   },
   "outputs": [],
   "source": [
    "# name, qi, b, di_exp, di_hyp\n",
    "# df_parameters = pd.DataFrame(values, columns=['wellapi','b','qi_exp','qi_hyp','di_exp','di_hyp'])\n",
    "df_parameters = pd.DataFrame(values, columns=['wellapi','qi_hyp','b','di_exp','di_hyp'])\n",
    "df_parameters = df_parameters.dropna()"
   ]
  },
  {
   "cell_type": "code",
   "execution_count": null,
   "metadata": {
    "ExecuteTime": {
     "end_time": "2019-12-20T14:39:25.393623Z",
     "start_time": "2019-12-20T14:39:25.135342Z"
    }
   },
   "outputs": [],
   "source": [
    "name = \"well_parameters\"\n",
    "con.load_table(name, df_parameters)"
   ]
  },
  {
   "cell_type": "code",
   "execution_count": null,
   "metadata": {
    "ExecuteTime": {
     "end_time": "2019-12-20T16:20:22.969729Z",
     "start_time": "2019-12-20T16:19:58.834501Z"
    }
   },
   "outputs": [],
   "source": [
    "df = pd.read_sql(\"SELECT * from well_parameters\",con)"
   ]
  },
  {
   "cell_type": "code",
   "execution_count": null,
   "metadata": {
    "ExecuteTime": {
     "end_time": "2019-12-20T16:20:42.963671Z",
     "start_time": "2019-12-20T16:20:42.867160Z"
    }
   },
   "outputs": [],
   "source": [
    "query = \"SELECT w.*, hyperbolic(w.SequentialMonthWell, p.qi_hyp, p.b, p.di_hyp) FROM well w, well_parameters p WHERE w.wellapi = p.wellapi limit 100\"\n",
    "\n",
    "df = pd.read_sql(query,con)"
   ]
  },
  {
   "cell_type": "code",
   "execution_count": null,
   "metadata": {},
   "outputs": [],
   "source": [
    "SELECT w.*, hyperbolic(w.SequentialMonthWell, p.qi_hyp, p.b, p.di_hyp) \n",
    "FROM well w, parameters p\n",
    "WHERE w.wellapi = p.wellapi"
   ]
  }
 ],
 "metadata": {
  "kernelspec": {
   "display_name": "Python [decline_curve]",
   "language": "python",
   "name": "decline_curve"
  },
  "language_info": {
   "codemirror_mode": {
    "name": "ipython",
    "version": 3
   },
   "file_extension": ".py",
   "mimetype": "text/x-python",
   "name": "python",
   "nbconvert_exporter": "python",
   "pygments_lexer": "ipython3",
   "version": "3.7.3"
  }
 },
 "nbformat": 4,
 "nbformat_minor": 2
}
