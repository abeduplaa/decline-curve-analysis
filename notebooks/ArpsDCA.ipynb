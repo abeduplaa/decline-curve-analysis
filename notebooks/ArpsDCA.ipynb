{
 "cells": [
  {
   "cell_type": "code",
   "execution_count": 1,
   "metadata": {
    "ExecuteTime": {
     "end_time": "2020-01-14T19:22:28.938248Z",
     "start_time": "2020-01-14T19:22:28.115712Z"
    }
   },
   "outputs": [],
   "source": [
    "import pickle\n",
    "import time\n",
    "import datetime\n",
    "\n",
    "import matplotlib.pyplot as plt\n",
    "from scipy.optimize import curve_fit\n",
    "import pandas as pd\n",
    "import numpy as np\n",
    "\n",
    "import cudf\n",
    "import cupy\n",
    "\n",
    "import utils\n",
    "import arps"
   ]
  },
  {
   "cell_type": "markdown",
   "metadata": {},
   "source": [
    "# Load in Data\n",
    "\n",
    "a set of wells from the permian basin are included in parquet format (`wells_permian.parquet`) There are 383970 wells! \n",
    "\n",
    "If you have already loaded well data into OmniSci, you can easily read it by using pymapd (https://pymapd.readthedocs.io/en/latest/)\n",
    "\n",
    "Note: Loading in the data may take a couple minutes\n"
   ]
  },
  {
   "cell_type": "code",
   "execution_count": 2,
   "metadata": {
    "ExecuteTime": {
     "end_time": "2020-01-14T19:22:46.149496Z",
     "start_time": "2020-01-14T19:22:28.939919Z"
    }
   },
   "outputs": [
    {
     "name": "stdout",
     "output_type": "stream",
     "text": [
      "Time to read from parquet:  17.201661825180054\n"
     ]
    }
   ],
   "source": [
    "omnisci=False\n",
    "if omnisci:\n",
    "    from pymapd import connect\n",
    "\n",
    "    con = connect(user=\"abraham\", \n",
    "                         password=\"abraham\", \n",
    "                         host=\"localhost\", \n",
    "                         dbname=\"abraham\", \n",
    "                         port=6273,\n",
    "                         protocol='http')\n",
    "\n",
    "    print(con)\n",
    "\n",
    "    # if loading in from omnisci:\n",
    "    l_cols = ['wellapi',\n",
    "     'state',\n",
    "     'formationname',\n",
    "     'subbasin',\n",
    "     'operator',\n",
    "     'firstproducingmonth',\n",
    "     'ProductionPeriodStartDate',\n",
    "     'ProducingDaysInPeriod',\n",
    "     'SequentialMonthWell',\n",
    "     'OilProduced',\n",
    "     'GasProduced',\n",
    "     'WaterProduced',\n",
    "     'CondensateProduced',\n",
    "     'BOE']\n",
    "    s_cols = (', ').join(l_cols)\n",
    "\n",
    "    query = \"SELECT \" + s_cols + \" FROM well WHERE majorbasin='Permian' LIMIT 800000000\"\n",
    "    print(query)\n",
    "\n",
    "    df_permian = pd.read_sql(query,con)\n",
    "    df_permian.head()\n",
    "else:\n",
    "    permian_all_wells_file = '../data/wells_permian.parquet'\n",
    "    t0 = time.time()\n",
    "    df_permian = pd.read_parquet(permian_all_wells_file, engine='pyarrow')\n",
    "    print(\"Time to read from parquet: \", time.time()-t0)"
   ]
  },
  {
   "cell_type": "code",
   "execution_count": 3,
   "metadata": {
    "ExecuteTime": {
     "end_time": "2020-01-14T19:22:46.173308Z",
     "start_time": "2020-01-14T19:22:46.151759Z"
    }
   },
   "outputs": [
    {
     "data": {
      "text/html": [
       "<div>\n",
       "<style scoped>\n",
       "    .dataframe tbody tr th:only-of-type {\n",
       "        vertical-align: middle;\n",
       "    }\n",
       "\n",
       "    .dataframe tbody tr th {\n",
       "        vertical-align: top;\n",
       "    }\n",
       "\n",
       "    .dataframe thead th {\n",
       "        text-align: right;\n",
       "    }\n",
       "</style>\n",
       "<table border=\"1\" class=\"dataframe\">\n",
       "  <thead>\n",
       "    <tr style=\"text-align: right;\">\n",
       "      <th></th>\n",
       "      <th>wellapi</th>\n",
       "      <th>state</th>\n",
       "      <th>formationname</th>\n",
       "      <th>operator</th>\n",
       "      <th>firstproducingmonth</th>\n",
       "      <th>ProductionPeriodStartDate</th>\n",
       "      <th>ProducingDaysInPeriod</th>\n",
       "      <th>SequentialMonthWell</th>\n",
       "      <th>OilProduced</th>\n",
       "      <th>GasProduced</th>\n",
       "      <th>WaterProduced</th>\n",
       "      <th>CondensateProduced</th>\n",
       "      <th>BOE</th>\n",
       "    </tr>\n",
       "  </thead>\n",
       "  <tbody>\n",
       "    <tr>\n",
       "      <th>0</th>\n",
       "      <td>42-105-35863</td>\n",
       "      <td>TX</td>\n",
       "      <td>HOWARDS CREEK (PENN.)</td>\n",
       "      <td>Apache Corporation</td>\n",
       "      <td>1993-01-01</td>\n",
       "      <td>2007-08-01</td>\n",
       "      <td>0.0</td>\n",
       "      <td>176.0</td>\n",
       "      <td>0.000000</td>\n",
       "      <td>0.00</td>\n",
       "      <td>NaN</td>\n",
       "      <td>0.0</td>\n",
       "      <td>0.000000</td>\n",
       "    </tr>\n",
       "    <tr>\n",
       "      <th>1</th>\n",
       "      <td>42-103-34006</td>\n",
       "      <td>TX</td>\n",
       "      <td>EDWARDS -04- (BEND, S.)</td>\n",
       "      <td>V-F Petroleum Inc.</td>\n",
       "      <td>1993-01-01</td>\n",
       "      <td>1999-04-01</td>\n",
       "      <td>30.0</td>\n",
       "      <td>76.0</td>\n",
       "      <td>118.000000</td>\n",
       "      <td>155.00</td>\n",
       "      <td>NaN</td>\n",
       "      <td>0.0</td>\n",
       "      <td>143.832993</td>\n",
       "    </tr>\n",
       "    <tr>\n",
       "      <th>2</th>\n",
       "      <td>42-003-01065</td>\n",
       "      <td>TX</td>\n",
       "      <td>FULLERTON</td>\n",
       "      <td>Jm Cox Resources Lp</td>\n",
       "      <td>1993-01-01</td>\n",
       "      <td>2011-01-01</td>\n",
       "      <td>31.0</td>\n",
       "      <td>217.0</td>\n",
       "      <td>400.000000</td>\n",
       "      <td>0.00</td>\n",
       "      <td>NaN</td>\n",
       "      <td>0.0</td>\n",
       "      <td>400.000000</td>\n",
       "    </tr>\n",
       "    <tr>\n",
       "      <th>3</th>\n",
       "      <td>42-135-31271</td>\n",
       "      <td>TX</td>\n",
       "      <td>COWDEN, NORTH</td>\n",
       "      <td>Occidental Petroleum Corp.</td>\n",
       "      <td>1993-11-01</td>\n",
       "      <td>2004-08-01</td>\n",
       "      <td>31.0</td>\n",
       "      <td>130.0</td>\n",
       "      <td>376.119995</td>\n",
       "      <td>0.78</td>\n",
       "      <td>NaN</td>\n",
       "      <td>0.0</td>\n",
       "      <td>376.250000</td>\n",
       "    </tr>\n",
       "    <tr>\n",
       "      <th>4</th>\n",
       "      <td>42-135-08546</td>\n",
       "      <td>TX</td>\n",
       "      <td>GOLDSMITH, W. (CLEAR FORK, UP.)</td>\n",
       "      <td>Aghorn Operating, Inc.</td>\n",
       "      <td>1993-08-01</td>\n",
       "      <td>2016-01-01</td>\n",
       "      <td>31.0</td>\n",
       "      <td>270.0</td>\n",
       "      <td>0.000000</td>\n",
       "      <td>9.85</td>\n",
       "      <td>NaN</td>\n",
       "      <td>0.0</td>\n",
       "      <td>1.641670</td>\n",
       "    </tr>\n",
       "  </tbody>\n",
       "</table>\n",
       "</div>"
      ],
      "text/plain": [
       "        wellapi state                    formationname  \\\n",
       "0  42-105-35863    TX            HOWARDS CREEK (PENN.)   \n",
       "1  42-103-34006    TX          EDWARDS -04- (BEND, S.)   \n",
       "2  42-003-01065    TX                        FULLERTON   \n",
       "3  42-135-31271    TX                    COWDEN, NORTH   \n",
       "4  42-135-08546    TX  GOLDSMITH, W. (CLEAR FORK, UP.)   \n",
       "\n",
       "                     operator firstproducingmonth ProductionPeriodStartDate  \\\n",
       "0          Apache Corporation          1993-01-01                2007-08-01   \n",
       "1          V-F Petroleum Inc.          1993-01-01                1999-04-01   \n",
       "2         Jm Cox Resources Lp          1993-01-01                2011-01-01   \n",
       "3  Occidental Petroleum Corp.          1993-11-01                2004-08-01   \n",
       "4      Aghorn Operating, Inc.          1993-08-01                2016-01-01   \n",
       "\n",
       "   ProducingDaysInPeriod  SequentialMonthWell  OilProduced  GasProduced  \\\n",
       "0                    0.0                176.0     0.000000         0.00   \n",
       "1                   30.0                 76.0   118.000000       155.00   \n",
       "2                   31.0                217.0   400.000000         0.00   \n",
       "3                   31.0                130.0   376.119995         0.78   \n",
       "4                   31.0                270.0     0.000000         9.85   \n",
       "\n",
       "   WaterProduced  CondensateProduced         BOE  \n",
       "0            NaN                 0.0    0.000000  \n",
       "1            NaN                 0.0  143.832993  \n",
       "2            NaN                 0.0  400.000000  \n",
       "3            NaN                 0.0  376.250000  \n",
       "4            NaN                 0.0    1.641670  "
      ]
     },
     "execution_count": 3,
     "metadata": {},
     "output_type": "execute_result"
    }
   ],
   "source": [
    "df_permian.head()"
   ]
  },
  {
   "cell_type": "code",
   "execution_count": 4,
   "metadata": {
    "ExecuteTime": {
     "end_time": "2020-01-14T19:22:48.672235Z",
     "start_time": "2020-01-14T19:22:46.174742Z"
    }
   },
   "outputs": [
    {
     "name": "stdout",
     "output_type": "stream",
     "text": [
      "Number of wells starting production from 2009: 49879\n"
     ]
    }
   ],
   "source": [
    "start_date = datetime.datetime(2009,1,1)\n",
    "\n",
    "end_date = datetime.datetime(2016,1,1)\n",
    "\n",
    "no_wells = len(df_permian['wellapi']\n",
    "            .loc[(df_permian['firstproducingmonth'] > start_date) & (df_permian['firstproducingmonth'] <= end_date)]\n",
    "            .unique()\n",
    "           )\n",
    "print(\"Number of wells starting production from %s: %d\" %(start_date.year, no_wells))"
   ]
  },
  {
   "cell_type": "code",
   "execution_count": 5,
   "metadata": {
    "ExecuteTime": {
     "end_time": "2020-01-14T19:23:02.492173Z",
     "start_time": "2020-01-14T19:22:48.673645Z"
    }
   },
   "outputs": [],
   "source": [
    "# keep only wells that produce a 'significant' amount of oil (average > 100bpd) and have more than 12 datapoints\n",
    "\n",
    "bpd = 200\n",
    "\n",
    "s = df_permian[['wellapi','OilProduced','SequentialMonthWell']].groupby('wellapi').mean()\n",
    "wells = list(s\n",
    "             .where(s['OilProduced']>bpd)\n",
    "             .dropna()\n",
    "             .index\n",
    "            )"
   ]
  },
  {
   "cell_type": "code",
   "execution_count": 6,
   "metadata": {
    "ExecuteTime": {
     "end_time": "2020-01-14T19:23:43.045584Z",
     "start_time": "2020-01-14T19:23:02.493715Z"
    }
   },
   "outputs": [
    {
     "data": {
      "text/html": [
       "<div>\n",
       "<style scoped>\n",
       "    .dataframe tbody tr th:only-of-type {\n",
       "        vertical-align: middle;\n",
       "    }\n",
       "\n",
       "    .dataframe tbody tr th {\n",
       "        vertical-align: top;\n",
       "    }\n",
       "\n",
       "    .dataframe thead th {\n",
       "        text-align: right;\n",
       "    }\n",
       "</style>\n",
       "<table border=\"1\" class=\"dataframe\">\n",
       "  <thead>\n",
       "    <tr style=\"text-align: right;\">\n",
       "      <th></th>\n",
       "      <th>wellapi</th>\n",
       "      <th>count</th>\n",
       "    </tr>\n",
       "  </thead>\n",
       "  <tbody>\n",
       "    <tr>\n",
       "      <th>272</th>\n",
       "      <td>30-015-36735</td>\n",
       "      <td>87</td>\n",
       "    </tr>\n",
       "    <tr>\n",
       "      <th>312</th>\n",
       "      <td>30-015-36805</td>\n",
       "      <td>87</td>\n",
       "    </tr>\n",
       "    <tr>\n",
       "      <th>155</th>\n",
       "      <td>30-015-36395</td>\n",
       "      <td>87</td>\n",
       "    </tr>\n",
       "    <tr>\n",
       "      <th>199</th>\n",
       "      <td>30-015-36523</td>\n",
       "      <td>87</td>\n",
       "    </tr>\n",
       "    <tr>\n",
       "      <th>281</th>\n",
       "      <td>30-015-36752</td>\n",
       "      <td>87</td>\n",
       "    </tr>\n",
       "  </tbody>\n",
       "</table>\n",
       "</div>"
      ],
      "text/plain": [
       "          wellapi  count\n",
       "272  30-015-36735     87\n",
       "312  30-015-36805     87\n",
       "155  30-015-36395     87\n",
       "199  30-015-36523     87\n",
       "281  30-015-36752     87"
      ]
     },
     "execution_count": 6,
     "metadata": {},
     "output_type": "execute_result"
    }
   ],
   "source": [
    "production_col = 'OilProduced'\n",
    "datapoints = 18\n",
    "\n",
    "df_permian_recent = (df_permian[df_permian['wellapi'].isin(wells)]\n",
    "                     .loc[(df_permian['firstproducingmonth'] > start_date) & (df_permian['firstproducingmonth'] <= end_date)]\n",
    "                     .sort_values(production_col, ascending=False)\n",
    "                     .drop_duplicates(['wellapi','SequentialMonthWell'])\n",
    "                     .dropna(subset=[production_col, 'SequentialMonthWell'])\n",
    "                     .groupby('wellapi').filter(lambda x: len(x) >= datapoints)\n",
    "                     .sort_values(['wellapi',production_col],ascending=True)\n",
    "                 )\n",
    "\n",
    "well_information = (df_permian_recent[['wellapi','SequentialMonthWell']]\n",
    " .groupby(['wellapi'])['SequentialMonthWell']\n",
    " .count()\n",
    " .reset_index(name='count')\n",
    " .sort_values(['count'], ascending=False)\n",
    ")\n",
    "\n",
    "well_information.head()"
   ]
  },
  {
   "cell_type": "code",
   "execution_count": 7,
   "metadata": {
    "ExecuteTime": {
     "end_time": "2020-01-14T19:23:43.057544Z",
     "start_time": "2020-01-14T19:23:43.047244Z"
    }
   },
   "outputs": [
    {
     "data": {
      "text/html": [
       "<div>\n",
       "<style scoped>\n",
       "    .dataframe tbody tr th:only-of-type {\n",
       "        vertical-align: middle;\n",
       "    }\n",
       "\n",
       "    .dataframe tbody tr th {\n",
       "        vertical-align: top;\n",
       "    }\n",
       "\n",
       "    .dataframe thead th {\n",
       "        text-align: right;\n",
       "    }\n",
       "</style>\n",
       "<table border=\"1\" class=\"dataframe\">\n",
       "  <thead>\n",
       "    <tr style=\"text-align: right;\">\n",
       "      <th></th>\n",
       "      <th>wellapi</th>\n",
       "      <th>count</th>\n",
       "    </tr>\n",
       "  </thead>\n",
       "  <tbody>\n",
       "    <tr>\n",
       "      <th>32077</th>\n",
       "      <td>42-501-36479</td>\n",
       "      <td>18</td>\n",
       "    </tr>\n",
       "    <tr>\n",
       "      <th>21156</th>\n",
       "      <td>42-317-39436</td>\n",
       "      <td>18</td>\n",
       "    </tr>\n",
       "    <tr>\n",
       "      <th>21164</th>\n",
       "      <td>42-317-39450</td>\n",
       "      <td>18</td>\n",
       "    </tr>\n",
       "    <tr>\n",
       "      <th>2541</th>\n",
       "      <td>30-015-40663</td>\n",
       "      <td>18</td>\n",
       "    </tr>\n",
       "    <tr>\n",
       "      <th>24083</th>\n",
       "      <td>42-353-33041</td>\n",
       "      <td>18</td>\n",
       "    </tr>\n",
       "    <tr>\n",
       "      <th>...</th>\n",
       "      <td>...</td>\n",
       "      <td>...</td>\n",
       "    </tr>\n",
       "    <tr>\n",
       "      <th>281</th>\n",
       "      <td>30-015-36752</td>\n",
       "      <td>87</td>\n",
       "    </tr>\n",
       "    <tr>\n",
       "      <th>199</th>\n",
       "      <td>30-015-36523</td>\n",
       "      <td>87</td>\n",
       "    </tr>\n",
       "    <tr>\n",
       "      <th>155</th>\n",
       "      <td>30-015-36395</td>\n",
       "      <td>87</td>\n",
       "    </tr>\n",
       "    <tr>\n",
       "      <th>312</th>\n",
       "      <td>30-015-36805</td>\n",
       "      <td>87</td>\n",
       "    </tr>\n",
       "    <tr>\n",
       "      <th>272</th>\n",
       "      <td>30-015-36735</td>\n",
       "      <td>87</td>\n",
       "    </tr>\n",
       "  </tbody>\n",
       "</table>\n",
       "<p>32078 rows × 2 columns</p>\n",
       "</div>"
      ],
      "text/plain": [
       "            wellapi  count\n",
       "32077  42-501-36479     18\n",
       "21156  42-317-39436     18\n",
       "21164  42-317-39450     18\n",
       "2541   30-015-40663     18\n",
       "24083  42-353-33041     18\n",
       "...             ...    ...\n",
       "281    30-015-36752     87\n",
       "199    30-015-36523     87\n",
       "155    30-015-36395     87\n",
       "312    30-015-36805     87\n",
       "272    30-015-36735     87\n",
       "\n",
       "[32078 rows x 2 columns]"
      ]
     },
     "execution_count": 7,
     "metadata": {},
     "output_type": "execute_result"
    }
   ],
   "source": [
    "well_information.sort_values(['count'], ascending=True)"
   ]
  },
  {
   "cell_type": "code",
   "execution_count": 8,
   "metadata": {
    "ExecuteTime": {
     "end_time": "2020-01-14T19:23:43.122558Z",
     "start_time": "2020-01-14T19:23:43.059575Z"
    }
   },
   "outputs": [],
   "source": [
    "save = False\n",
    "if save:\n",
    "    pickle.dump(df_permian_recent, open('../data/permain_oil_wells.p','wb'))"
   ]
  },
  {
   "cell_type": "markdown",
   "metadata": {},
   "source": [
    "## Quickly viewing n number of random wells"
   ]
  },
  {
   "cell_type": "code",
   "execution_count": 9,
   "metadata": {
    "ExecuteTime": {
     "end_time": "2020-01-14T19:23:47.118048Z",
     "start_time": "2020-01-14T19:23:43.124123Z"
    }
   },
   "outputs": [
    {
     "data": {
      "image/png": "[encoded data removed]",
      "text/plain": [
       "<Figure size 432x288 with 1 Axes>"
      ]
     },
     "metadata": {
      "needs_background": "light"
     },
     "output_type": "display_data"
    }
   ],
   "source": [
    "# plot n number of wells together to get an idea of what the production looks like\n",
    "n = 50\n",
    "\n",
    "fig, ax = plt.subplots()\n",
    "#well_apis = df_permian_recent['wellapi'].sample(n)\n",
    "well_apis = well_information['wellapi'].head(n)\n",
    "for well_api in well_apis:\n",
    "    \n",
    "    well = df_permian_recent.loc[df_permian_recent['wellapi']==well_api].sort_values('SequentialMonthWell',ascending=True)\n",
    "    ax.plot(well['SequentialMonthWell'],well[production_col])\n",
    "\n",
    "ax.set(xlabel='Months in production', ylabel='Production '+production_col,\n",
    "       title='Production')\n",
    "ax.grid()\n",
    "\n",
    "plt.show()"
   ]
  },
  {
   "cell_type": "markdown",
   "metadata": {},
   "source": [
    "# Looking at one well at random"
   ]
  },
  {
   "cell_type": "code",
   "execution_count": 10,
   "metadata": {
    "ExecuteTime": {
     "end_time": "2020-01-14T19:23:47.260166Z",
     "start_time": "2020-01-14T19:23:47.119479Z"
    }
   },
   "outputs": [
    {
     "name": "stdout",
     "output_type": "stream",
     "text": [
      "42-383-38460\n"
     ]
    }
   ],
   "source": [
    "#THIS WELL PICKED AT RANDOM WILL BE USED FOR VALIDATION!\n",
    "api = np.random.choice(df_permian_recent['wellapi'].unique())\n",
    "one_well = df_permian_recent[df_permian_recent['wellapi']==api].sort_values('SequentialMonthWell',ascending=True)\n",
    "print(api)"
   ]
  },
  {
   "cell_type": "code",
   "execution_count": 11,
   "metadata": {
    "ExecuteTime": {
     "end_time": "2020-01-14T19:23:47.495019Z",
     "start_time": "2020-01-14T19:23:47.261542Z"
    }
   },
   "outputs": [
    {
     "data": {
      "image/png": "[encoded data removed]",
      "text/plain": [
       "<Figure size 432x288 with 1 Axes>"
      ]
     },
     "metadata": {
      "needs_background": "light"
     },
     "output_type": "display_data"
    }
   ],
   "source": [
    "# Data for plotting\n",
    "fig, ax = plt.subplots()\n",
    "ax.plot(one_well.SequentialMonthWell, one_well[production_col])\n",
    "\n",
    "ax.set(xlabel='Months in production', ylabel='Production',\n",
    "       title='Production')\n",
    "ax.grid()\n",
    "\n",
    "plt.show()"
   ]
  },
  {
   "cell_type": "markdown",
   "metadata": {},
   "source": [
    "# Decline curve analysis"
   ]
  },
  {
   "cell_type": "code",
   "execution_count": 12,
   "metadata": {
    "ExecuteTime": {
     "end_time": "2020-01-14T19:23:47.583426Z",
     "start_time": "2020-01-14T19:23:47.496402Z"
    }
   },
   "outputs": [
    {
     "name": "stdout",
     "output_type": "stream",
     "text": [
      "Exponential Fit Curve-fitted Variables: qi=4359.229980, di=0.070474\n",
      "Hyperbolic Fit Curve-fitted Variables: qi=4359.229980, b=0.000000, di=0.070478\n"
     ]
    }
   ],
   "source": [
    "interval = 9\n",
    "qi = arps.max_qi(df=one_well, month_col='SequentialMonthWell', interval=interval, prod=production_col)\n",
    "\n",
    "popt_exp, pcov_exp = curve_fit(arps.exponential, one_well['SequentialMonthWell'], one_well[production_col],\n",
    "                               bounds=(0, [qi,20]))\n",
    "\n",
    "popt_hyp, pcov_hyp = curve_fit(arps.hyperbolic, one_well['SequentialMonthWell'], \n",
    "                                    one_well[production_col],bounds=(0, [qi,2,20]))\n",
    "\n",
    "qi_exp = popt_exp[0]\n",
    "qi_hyp = popt_hyp[0]\n",
    "b = popt_hyp[1]\n",
    "di_exp = popt_exp[1]\n",
    "di_hyp = popt_hyp[2]\n",
    "print('Exponential Fit Curve-fitted Variables: qi=%f, di=%f' %(popt_exp[0], popt_exp[1]) )\n",
    "print('Hyperbolic Fit Curve-fitted Variables: qi=%f, b=%f, di=%f' %(popt_hyp[0], popt_hyp[1], popt_hyp[2]))\n",
    "\n",
    "one_well.loc[:,'exponential_predicted'] = arps.exponential(one_well['SequentialMonthWell'],*popt_exp)\n",
    "one_well.loc[:,'hyperbolic_predicted'] = arps.hyperbolic(one_well['SequentialMonthWell'],*popt_hyp)\n"
   ]
  },
  {
   "cell_type": "code",
   "execution_count": 13,
   "metadata": {
    "ExecuteTime": {
     "end_time": "2020-01-14T19:23:47.587961Z",
     "start_time": "2020-01-14T19:23:47.584764Z"
    }
   },
   "outputs": [],
   "source": [
    "def plot_actual_vs_predicted_by_equations(df, x_variable, y_variables, plot_title):\n",
    "    \"\"\"\n",
    "    This function is used to map x- and y-variables against each other\n",
    "    Arguments:\n",
    "        df: Pandas dataframe.\n",
    "        x_variable: String. Name of the column that we want to set as the \n",
    "        x-variable in the plot\n",
    "        y_variables: string (single), or list of strings (multiple). Name(s) \n",
    "        of the column(s) that we want to set as the y-variable in the plot\n",
    "    \"\"\"\n",
    "    #Plot results\n",
    "    df.plot(x=x_variable, y=y_variables, title=plot_title)\n",
    "    plt.show()"
   ]
  },
  {
   "cell_type": "code",
   "execution_count": 14,
   "metadata": {
    "ExecuteTime": {
     "end_time": "2020-01-14T19:23:47.811532Z",
     "start_time": "2020-01-14T19:23:47.589261Z"
    }
   },
   "outputs": [
    {
     "data": {
      "image/png": "[encoded data removed]",
      "text/plain": [
       "<Figure size 432x288 with 1 Axes>"
      ]
     },
     "metadata": {
      "needs_background": "light"
     },
     "output_type": "display_data"
    }
   ],
   "source": [
    "y_variables=[production_col, \"hyperbolic_predicted\", \"exponential_predicted\"]\n",
    "x_variable='SequentialMonthWell'\n",
    "#Create the plot title\n",
    "plot_title=production_col+' Production for one well'\n",
    "#Plot the data to visualize the equation fit\n",
    "utils.plot_actual_vs_predicted_by_equations(one_well, x_variable, y_variables, plot_title)\n"
   ]
  },
  {
   "cell_type": "markdown",
   "metadata": {},
   "source": [
    "# Calculating the values for all wells"
   ]
  },
  {
   "cell_type": "code",
   "execution_count": 15,
   "metadata": {
    "ExecuteTime": {
     "end_time": "2020-01-14T19:23:47.819984Z",
     "start_time": "2020-01-14T19:23:47.812783Z"
    }
   },
   "outputs": [],
   "source": [
    "# Sequential Arps\n",
    "\n",
    "def sequential_arps(df):\n",
    "    \"\"\"\n",
    "    Arps calculated sequentially\n",
    "    \"\"\"\n",
    "    grouped = df.groupby('wellapi')\n",
    "\n",
    "    well_data = []\n",
    "\n",
    "    t0 = time.time()\n",
    "    for (name, well) in grouped:\n",
    "        try:\n",
    "            well = well.sort_values('SequentialMonthWell',ascending=True)\n",
    "            qi = arps.max_qi(df=well, month_col='SequentialMonthWell', interval=interval, prod=production_col)\n",
    "\n",
    "            popt_exp, pcov_exp = curve_fit(arps.exponential, well['SequentialMonthWell'], well[production_col],bounds=(0, [qi,20]))\n",
    "            popt_hyp, pcov_hyp = curve_fit(arps.hyperbolic, well['SequentialMonthWell'], \n",
    "                                                well[production_col],bounds=(0, [qi,2,20]))\n",
    "            print(\"Well API: \", name)\n",
    "            print('Exponential: qi=%f, di=%f' %(popt_exp[0], popt_exp[1]) )\n",
    "            print('Hyperbolic: qi=%f, b=%f, di=%f' %(popt_hyp[0], popt_hyp[1], popt_hyp[2]))\n",
    "            print('\\n')\n",
    "\n",
    "            qi = popt_exp[1]\n",
    "            b = popt_hyp[1]\n",
    "            di_exp = popt_exp[1]\n",
    "            di_hyp = popt_hyp[2]\n",
    "\n",
    "            well_data.append((name, qi, b, di_exp, di_hyp))\n",
    "        except:\n",
    "            print(\"Well %s not forecasted: %f\" %(name, qi))\n",
    "    print(\"Time: \", time.time()-t0)    \n",
    "    \n",
    "    return well_data"
   ]
  },
  {
   "cell_type": "code",
   "execution_count": 16,
   "metadata": {
    "ExecuteTime": {
     "end_time": "2020-01-14T19:23:47.867641Z",
     "start_time": "2020-01-14T19:23:47.821215Z"
    }
   },
   "outputs": [],
   "source": [
    "def parallel_arps(x):\n",
    "    try: \n",
    "        name = x[0]\n",
    "        well = x[1]\n",
    "\n",
    "        well = well.sort_values('SequentialMonthWell',ascending=True)\n",
    "        qi = arps.max_qi(df=well, month_col='SequentialMonthWell', interval=interval, prod=production_col)\n",
    "\n",
    "        popt_exp, pcov_exp = curve_fit(arps.exponential, well['SequentialMonthWell'], \n",
    "                                       well[production_col],bounds=(0, [qi,20]))\n",
    "        popt_hyp, pcov_hyp = curve_fit(arps.hyperbolic, well['SequentialMonthWell'], \n",
    "                                            well[production_col],bounds=(0, [qi,2,20]))\n",
    "\n",
    "        #       name, qi_exp,      di_exp,      qi_hyp,      di_hyp,      b\n",
    "        return (name, popt_exp[0], popt_exp[1], popt_hyp[0], popt_hyp[2], popt_hyp[1])\n",
    "    except:\n",
    "        print(\"Well %s not forecasted: %f\" %(name, qi))"
   ]
  },
  {
   "cell_type": "code",
   "execution_count": 17,
   "metadata": {
    "ExecuteTime": {
     "end_time": "2020-01-14T19:25:58.515503Z",
     "start_time": "2020-01-14T19:23:47.868927Z"
    },
    "scrolled": true
   },
   "outputs": [
    {
     "name": "stderr",
     "output_type": "stream",
     "text": [
      "/home/mapdadmin/miniconda3/envs/decline_curve/lib/python3.7/site-packages/scipy/optimize/minpack.py:693: RuntimeWarning: invalid value encountered in less\n",
      "  bounded_problem = np.any((lb > -np.inf) | (ub < np.inf))\n",
      "/home/mapdadmin/miniconda3/envs/decline_curve/lib/python3.7/site-packages/scipy/optimize/_lsq/least_squares.py:790: RuntimeWarning: invalid value encountered in greater_equal\n",
      "  if np.any(lb >= ub):\n",
      "/home/mapdadmin/miniconda3/envs/decline_curve/lib/python3.7/site-packages/scipy/optimize/_lsq/common.py:371: RuntimeWarning: invalid value encountered in less_equal\n",
      "  return np.all((x >= lb) & (x <= ub))\n"
     ]
    },
    {
     "name": "stdout",
     "output_type": "stream",
     "text": [
      "Well 30-025-40461 not forecasted: nan\n"
     ]
    },
    {
     "name": "stderr",
     "output_type": "stream",
     "text": [
      "/home/mapdadmin/miniconda3/envs/decline_curve/lib/python3.7/site-packages/scipy/optimize/minpack.py:693: RuntimeWarning: invalid value encountered in less\n",
      "  bounded_problem = np.any((lb > -np.inf) | (ub < np.inf))\n",
      "/home/mapdadmin/miniconda3/envs/decline_curve/lib/python3.7/site-packages/scipy/optimize/_lsq/least_squares.py:790: RuntimeWarning: invalid value encountered in greater_equal\n",
      "  if np.any(lb >= ub):\n",
      "/home/mapdadmin/miniconda3/envs/decline_curve/lib/python3.7/site-packages/scipy/optimize/_lsq/common.py:371: RuntimeWarning: invalid value encountered in less_equal\n",
      "  return np.all((x >= lb) & (x <= ub))\n"
     ]
    },
    {
     "name": "stdout",
     "output_type": "stream",
     "text": [
      "Well 42-003-42429 not forecasted: nan\n"
     ]
    },
    {
     "name": "stderr",
     "output_type": "stream",
     "text": [
      "/home/mapdadmin/miniconda3/envs/decline_curve/lib/python3.7/site-packages/scipy/optimize/minpack.py:693: RuntimeWarning: invalid value encountered in less\n",
      "  bounded_problem = np.any((lb > -np.inf) | (ub < np.inf))\n",
      "/home/mapdadmin/miniconda3/envs/decline_curve/lib/python3.7/site-packages/scipy/optimize/_lsq/least_squares.py:790: RuntimeWarning: invalid value encountered in greater_equal\n",
      "  if np.any(lb >= ub):\n",
      "/home/mapdadmin/miniconda3/envs/decline_curve/lib/python3.7/site-packages/scipy/optimize/_lsq/common.py:371: RuntimeWarning: invalid value encountered in less_equal\n",
      "  return np.all((x >= lb) & (x <= ub))\n"
     ]
    },
    {
     "name": "stdout",
     "output_type": "stream",
     "text": [
      "Well 42-003-01172 not forecasted: nan\n",
      "Well 42-003-01736 not forecasted: nan\n",
      "Well 42-003-04519 not forecasted: nan\n",
      "Well 42-003-05520 not forecasted: nan\n",
      "Well 42-003-30503 not forecasted: nan\n"
     ]
    },
    {
     "name": "stderr",
     "output_type": "stream",
     "text": [
      "/home/mapdadmin/miniconda3/envs/decline_curve/lib/python3.7/site-packages/scipy/optimize/minpack.py:693: RuntimeWarning: invalid value encountered in less\n",
      "  bounded_problem = np.any((lb > -np.inf) | (ub < np.inf))\n",
      "/home/mapdadmin/miniconda3/envs/decline_curve/lib/python3.7/site-packages/scipy/optimize/_lsq/least_squares.py:790: RuntimeWarning: invalid value encountered in greater_equal\n",
      "  if np.any(lb >= ub):\n",
      "/home/mapdadmin/miniconda3/envs/decline_curve/lib/python3.7/site-packages/scipy/optimize/_lsq/common.py:371: RuntimeWarning: invalid value encountered in less_equal\n",
      "  return np.all((x >= lb) & (x <= ub))\n"
     ]
    },
    {
     "name": "stdout",
     "output_type": "stream",
     "text": [
      "Well 30-015-36424 not forecasted: nan\n"
     ]
    },
    {
     "name": "stderr",
     "output_type": "stream",
     "text": [
      "/home/mapdadmin/miniconda3/envs/decline_curve/lib/python3.7/site-packages/scipy/optimize/minpack.py:693: RuntimeWarning: invalid value encountered in less\n",
      "  bounded_problem = np.any((lb > -np.inf) | (ub < np.inf))\n",
      "/home/mapdadmin/miniconda3/envs/decline_curve/lib/python3.7/site-packages/scipy/optimize/_lsq/least_squares.py:790: RuntimeWarning: invalid value encountered in greater_equal\n",
      "  if np.any(lb >= ub):\n",
      "/home/mapdadmin/miniconda3/envs/decline_curve/lib/python3.7/site-packages/scipy/optimize/_lsq/common.py:371: RuntimeWarning: invalid value encountered in less_equal\n",
      "  return np.all((x >= lb) & (x <= ub))\n"
     ]
    },
    {
     "name": "stdout",
     "output_type": "stream",
     "text": [
      "Well 42-103-02078 not forecasted: nan\n",
      "Well 42-103-10926 not forecasted: nan\n"
     ]
    },
    {
     "name": "stderr",
     "output_type": "stream",
     "text": [
      "/home/mapdadmin/miniconda3/envs/decline_curve/lib/python3.7/site-packages/scipy/optimize/minpack.py:776: RuntimeWarning: divide by zero encountered in true_divide\n",
      "  pcov = np.dot(VT.T / s**2, VT)\n",
      "/home/mapdadmin/miniconda3/envs/decline_curve/lib/python3.7/site-packages/scipy/optimize/minpack.py:693: RuntimeWarning: invalid value encountered in less\n",
      "  bounded_problem = np.any((lb > -np.inf) | (ub < np.inf))\n",
      "/home/mapdadmin/miniconda3/envs/decline_curve/lib/python3.7/site-packages/scipy/optimize/_lsq/least_squares.py:790: RuntimeWarning: invalid value encountered in greater_equal\n",
      "  if np.any(lb >= ub):\n",
      "/home/mapdadmin/miniconda3/envs/decline_curve/lib/python3.7/site-packages/scipy/optimize/_lsq/common.py:371: RuntimeWarning: invalid value encountered in less_equal\n",
      "  return np.all((x >= lb) & (x <= ub))\n"
     ]
    },
    {
     "name": "stdout",
     "output_type": "stream",
     "text": [
      "Well 42-135-33803 not forecasted: nan\n",
      "Well 42-135-33934 not forecasted: nan\n",
      "Well 42-135-38734 not forecasted: nan\n",
      "Well 42-135-39649 not forecasted: 0.000000\n"
     ]
    },
    {
     "name": "stderr",
     "output_type": "stream",
     "text": [
      "/home/mapdadmin/miniconda3/envs/decline_curve/lib/python3.7/site-packages/scipy/optimize/minpack.py:693: RuntimeWarning: invalid value encountered in less\n",
      "  bounded_problem = np.any((lb > -np.inf) | (ub < np.inf))\n",
      "/home/mapdadmin/miniconda3/envs/decline_curve/lib/python3.7/site-packages/scipy/optimize/_lsq/least_squares.py:790: RuntimeWarning: invalid value encountered in greater_equal\n",
      "  if np.any(lb >= ub):\n",
      "/home/mapdadmin/miniconda3/envs/decline_curve/lib/python3.7/site-packages/scipy/optimize/_lsq/common.py:371: RuntimeWarning: invalid value encountered in less_equal\n",
      "  return np.all((x >= lb) & (x <= ub))\n"
     ]
    },
    {
     "name": "stdout",
     "output_type": "stream",
     "text": [
      "Well 42-115-30554 not forecasted: nan\n",
      "Well 42-317-35809 not forecasted: 0.000000\n",
      "Well 42-353-33250 not forecasted: 0.000000\n",
      "Well 42-389-32847 not forecasted: 0.000000\n"
     ]
    }
   ],
   "source": [
    "# Calculate the arps values for all wells using multiprocessing\n",
    "from multiprocessing import Pool\n",
    "\n",
    "grouped = df_permian_recent.groupby('wellapi')\n",
    "p = Pool()\n",
    "values = p.map(parallel_arps, [x for x in grouped])\n",
    "values = [v for v in values if v is not None]"
   ]
  },
  {
   "cell_type": "code",
   "execution_count": 18,
   "metadata": {
    "ExecuteTime": {
     "end_time": "2020-01-14T19:25:59.044393Z",
     "start_time": "2020-01-14T19:25:58.517384Z"
    }
   },
   "outputs": [],
   "source": [
    "save = True\n",
    "load = True\n",
    "\n",
    "arps_factors_file = '../data/values.p'\n",
    "\n",
    "if save:\n",
    "    import pickle\n",
    "    pickle.dump(values, open(arps_factors_file,'wb'))\n",
    "\n",
    "if load:\n",
    "    values = pickle.load(open(arps_factors_file,'rb'))"
   ]
  },
  {
   "cell_type": "code",
   "execution_count": 19,
   "metadata": {
    "ExecuteTime": {
     "end_time": "2020-01-14T19:26:07.160852Z",
     "start_time": "2020-01-14T19:26:07.139346Z"
    }
   },
   "outputs": [],
   "source": [
    "# name, qi_exp,      di_exp,      qi_hyp,      di_hyp,      b\n",
    "df_values = pd.DataFrame(values,columns=['wellapi','qi_exp', 'di_exp', 'qi_hyp', 'di_hyp', 'b'])\n"
   ]
  },
  {
   "cell_type": "code",
   "execution_count": 20,
   "metadata": {
    "ExecuteTime": {
     "end_time": "2020-01-14T19:26:07.763036Z",
     "start_time": "2020-01-14T19:26:07.755640Z"
    }
   },
   "outputs": [],
   "source": [
    "# verify results with above\n",
    "tol = 1e-5\n",
    "for value in values:\n",
    "    if value[0] == api:\n",
    "        result = value\n",
    "        break\n",
    "\n",
    "# Sanity Check\n",
    "assert (result[5] == b) & (result[4] == di_hyp) & (result[3] == qi_hyp) & (result[2] == di_exp) & (result[1] == qi_exp)"
   ]
  },
  {
   "cell_type": "code",
   "execution_count": 21,
   "metadata": {
    "ExecuteTime": {
     "end_time": "2020-01-14T19:26:09.361466Z",
     "start_time": "2020-01-14T19:26:08.676409Z"
    }
   },
   "outputs": [],
   "source": [
    "# load in data to omnisci\n",
    "load_wells=False\n",
    "load_arps=True\n",
    "from pymapd import connect\n",
    "\n",
    "con = connect(user=\"abraham\", \n",
    "                     password=\"abraham\", \n",
    "                     host=\"localhost\", \n",
    "                     dbname=\"abraham\", \n",
    "                     port=6274,\n",
    "                     protocol='binary')\n",
    "if load_wells:\n",
    "    con.load_table('permian_oil_wells',df_permian_recent)\n",
    "if load_arps:\n",
    "    con.load_table('arps_values',df_values)\n"
   ]
  },
  {
   "cell_type": "markdown",
   "metadata": {},
   "source": [
    "# Using Built-In UDFs to create Arps curves"
   ]
  },
  {
   "cell_type": "code",
   "execution_count": 22,
   "metadata": {
    "ExecuteTime": {
     "end_time": "2020-01-14T19:26:15.780913Z",
     "start_time": "2020-01-14T19:26:15.778252Z"
    }
   },
   "outputs": [],
   "source": [
    "query = 'SELECT permian_oil_wells.wellapi, permian_oil_wells.SequentialMonthWell, permian_oil_wells.OilProduced, arps_values.qi_hyp / POWER(1.0 + arps_values.b * arps_values.di_hyp * permian_oil_wells.SequentialMonthWell, 1.0/arps_values.b) as hyperbolic_predicted \\\n",
    "FROM permian_oil_wells \\\n",
    "INNER JOIN arps_values ON permian_oil_wells.wellapi = arps_values.wellapi;'\n",
    "\n"
   ]
  },
  {
   "cell_type": "code",
   "execution_count": 23,
   "metadata": {
    "ExecuteTime": {
     "end_time": "2020-01-14T19:26:17.042452Z",
     "start_time": "2020-01-14T19:26:16.395557Z"
    }
   },
   "outputs": [],
   "source": [
    "arps_curves = con.select_ipc(query)"
   ]
  },
  {
   "cell_type": "markdown",
   "metadata": {},
   "source": [
    "### compare with previous one well example"
   ]
  },
  {
   "cell_type": "code",
   "execution_count": 24,
   "metadata": {
    "ExecuteTime": {
     "end_time": "2020-01-14T19:26:19.065947Z",
     "start_time": "2020-01-14T19:26:19.002016Z"
    }
   },
   "outputs": [
    {
     "name": "stdout",
     "output_type": "stream",
     "text": [
      "Hyperbolic Fit Curve-fitted Variables: qi=4359.229980, b=0.000000, di=0.070478\n"
     ]
    }
   ],
   "source": [
    "omni_well = arps_curves[arps_curves['wellapi']==api].sort_values('SequentialMonthWell',ascending=True)\n",
    "\n",
    "qi_test = arps.max_qi(df=one_well, month_col='SequentialMonthWell', interval=interval, prod=production_col)\n",
    "popt_hyp, pcov_hyp = curve_fit(arps.hyperbolic, one_well['SequentialMonthWell'], \n",
    "                                    one_well[production_col],bounds=(0, [qi,2,20]))\n",
    "print('Hyperbolic Fit Curve-fitted Variables: qi=%f, b=%f, di=%f' %(popt_hyp[0], popt_hyp[1], popt_hyp[2]))\n",
    "one_well.loc[:,'hyperbolic_predicted'] = arps.hyperbolic(one_well['SequentialMonthWell'],*popt_hyp)\n"
   ]
  },
  {
   "cell_type": "code",
   "execution_count": 29,
   "metadata": {
    "ExecuteTime": {
     "end_time": "2020-01-14T19:28:02.931978Z",
     "start_time": "2020-01-14T19:28:02.925819Z"
    }
   },
   "outputs": [
    {
     "name": "stdout",
     "output_type": "stream",
     "text": [
      "0.0\n"
     ]
    }
   ],
   "source": [
    "#Sanity check\n",
    "distance = np.linalg.norm(omni_well.set_index('SequentialMonthWell')['hyperbolic_predicted']- one_well.set_index('SequentialMonthWell')['hyperbolic_predicted'])\n",
    "assert distance < 1e-5\n",
    "print(distance)"
   ]
  }
 ],
 "metadata": {
  "kernelspec": {
   "display_name": "Python [decline_curve]",
   "language": "python",
   "name": "decline_curve"
  },
  "language_info": {
   "codemirror_mode": {
    "name": "ipython",
    "version": 3
   },
   "file_extension": ".py",
   "mimetype": "text/x-python",
   "name": "python",
   "nbconvert_exporter": "python",
   "pygments_lexer": "ipython3",
   "version": "3.7.3"
  }
 },
 "nbformat": 4,
 "nbformat_minor": 2
}
